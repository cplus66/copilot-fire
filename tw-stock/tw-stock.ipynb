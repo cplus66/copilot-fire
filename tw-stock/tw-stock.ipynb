{
 "cells": [
  {
   "cell_type": "code",
   "execution_count": null,
   "id": "f6eaa76d-7c79-4e76-ada2-1cacd8943709",
   "metadata": {},
   "outputs": [],
   "source": [
    "import pandas as pd\n",
    "import os\n",
    "import numpy as np\n",
    "from datetime import datetime, timedelta\n",
    "import datetime as dt\n",
    "from pylab import mpl, plt\n",
    "import plotly.graph_objects as go"
   ]
  },
  {
   "cell_type": "code",
   "execution_count": null,
   "id": "195b46cb-1be8-4060-9e1c-b808185c4889",
   "metadata": {},
   "outputs": [],
   "source": [
    "group = pd.read_csv('group.csv')\n",
    "stock = pd.read_csv('stock.csv')\n",
    "df = pd.merge(stock,group,on='gid',how='inner')"
   ]
  },
  {
   "cell_type": "code",
   "execution_count": null,
   "id": "9b747d49-c8c0-418a-96e4-ccc91692d6b6",
   "metadata": {},
   "outputs": [],
   "source": [
    "group"
   ]
  },
  {
   "cell_type": "code",
   "execution_count": null,
   "id": "7a5a2844-5b14-44f0-91ab-6851cdc790fa",
   "metadata": {},
   "outputs": [],
   "source": [
    "df[ df['gid'] ==24][0:20]"
   ]
  },
  {
   "cell_type": "code",
   "execution_count": null,
   "id": "bb9612be-2724-4f0e-a757-a179f1b98a85",
   "metadata": {},
   "outputs": [],
   "source": [
    "dfs = []\n",
    "header=1\n",
    "footer=5\n",
    "sid = \"2412\"\n",
    "\n",
    "start_date = datetime(2015, 1, 1)\n",
    "end_date = datetime(2025, 8, 1)\n",
    "\n",
    "current_date = start_date\n",
    "while current_date <= end_date:\n",
    "    year=current_date.strftime(\"%Y\")\n",
    "    month=current_date.strftime(\"%m\")\n",
    "    filename = f\"STOCK_DAY_{sid}_{year}{month}.csv\"  # Formats 1 as '01', 2 as '02', ..., 12 as '12'\n",
    "    folder_path = f'twse/STOCK_DAY/{sid}/{year:04}'\n",
    "    file_path = os.path.join(folder_path, filename)\n",
    "    try:\n",
    "        df = pd.read_csv(file_path,skiprows=header, skipfooter=footer,engine='python')\n",
    "        df = df.dropna(axis=1, how='all')\n",
    "        df['Date'] = pd.to_datetime(df['Date'], format='%Y/%m/%d')\n",
    "        dfs.append(df)\n",
    "    except FileNotFoundError:\n",
    "        print(f\"File not found: {file_path}\")\n",
    "    if current_date.month == 12:\n",
    "        current_date = current_date.replace(year=current_date.year + 1, month=1)\n",
    "    else:\n",
    "        current_date = current_date.replace(month=current_date.month + 1)\n",
    "\n",
    "# Optionally, concatenate all DataFrames\n",
    "df = pd.concat(dfs, ignore_index=True)\n",
    "df.set_index('Date', inplace=True)"
   ]
  },
  {
   "cell_type": "code",
   "execution_count": null,
   "id": "78b7d0f7-85b7-4dc1-a8af-c60aaee38953",
   "metadata": {},
   "outputs": [],
   "source": [
    "df.info()"
   ]
  },
  {
   "cell_type": "code",
   "execution_count": null,
   "id": "af3d5465-a6c2-47ab-96a7-35d9840b1835",
   "metadata": {},
   "outputs": [],
   "source": [
    "df.describe()"
   ]
  },
  {
   "cell_type": "code",
   "execution_count": null,
   "id": "287eb3ae-da80-4b4c-9ffa-2e8b0d4352a4",
   "metadata": {},
   "outputs": [],
   "source": [
    "# Visual\n",
    "plt.style.use('seaborn-v0_8')\n",
    "mpl.rcParams['font.family'] = 'serif'"
   ]
  },
  {
   "cell_type": "code",
   "execution_count": null,
   "id": "2b082c0f-6aad-46a0-9490-c0ff91136ee2",
   "metadata": {},
   "outputs": [],
   "source": [
    "# Trading Strategy : SMA\n",
    "data = (pd.DataFrame(df['Closing Price']).dropna())\n",
    "SMA1 = 42\n",
    "SMA2 = 252\n",
    "\n",
    "#SMA1 = 60\n",
    "#SMA2 = 270\n",
    "symbol = 'Closing Price'\n",
    "data['SMA1'] = data[symbol].rolling(SMA1).mean()\n",
    "data['SMA2'] = data[symbol].rolling(SMA2).mean()\n",
    "\n",
    "data.plot(figsize=(10, 6));"
   ]
  },
  {
   "cell_type": "code",
   "execution_count": null,
   "id": "69a4b0c6-0df6-4139-952b-eee778c7a8cd",
   "metadata": {},
   "outputs": [],
   "source": [
    "data['Position'] = np.where(data['SMA1'] > data['SMA2'], 1, -1)"
   ]
  },
  {
   "cell_type": "code",
   "execution_count": null,
   "id": "0429ab9b-a8f6-47ad-b66a-bacce5af5f45",
   "metadata": {},
   "outputs": [],
   "source": [
    "ax = data.plot(secondary_y='Position', figsize=(10, 6))\n",
    "#ax.get_legend().set_bbox_to_anchor((0.25, 0.85));"
   ]
  },
  {
   "cell_type": "code",
   "execution_count": null,
   "id": "6e92b4a2-d58a-41d1-a07a-0417453add92",
   "metadata": {},
   "outputs": [],
   "source": [
    "### Vectorized Backtesting"
   ]
  },
  {
   "cell_type": "code",
   "execution_count": null,
   "id": "acb8171a-fd23-4626-9a15-c93dfd504df0",
   "metadata": {},
   "outputs": [],
   "source": [
    "# Initialize list to store trades\n",
    "trades = []\n",
    "\n",
    "dp = data.reset_index()\n",
    "\n",
    "# Iterate through the DataFrame to detect position changes\n",
    "for i in range(1, len(data)):\n",
    "    prev_pos = dp.loc[i-1, 'Position']\n",
    "    curr_pos = dp.loc[i, 'Position']\n",
    "    curr_val = dp.loc[i, 'Closing Price']\n",
    "    \n",
    "    if prev_pos == -1 and curr_pos == 1:\n",
    "        trades.append({'date': dp.loc[i,'Date'], 'action': 'buy', 'price': curr_val})\n",
    "    elif prev_pos == 1 and curr_pos == -1:\n",
    "        trades.append({'date': dp.loc[i,'Date'], 'action': 'sell', 'price': curr_val})\n",
    "\n",
    "# Calculate profit/loss\n",
    "profit = 0\n",
    "for i in range(0, len(trades)-1, 2):\n",
    "    if trades[i]['action'] == 'buy' and trades[i+1]['action'] == 'sell':\n",
    "        profit += trades[i+1]['price'] - trades[i]['price']\n",
    "\n",
    "# Display trades and profit\n",
    "trades_df = pd.DataFrame(trades)\n",
    "print(\"Trade Actions:\")\n",
    "print(trades_df)\n",
    "print(f\"\\nTotal Profit/Loss: {profit}\")\n"
   ]
  },
  {
   "cell_type": "code",
   "execution_count": null,
   "id": "95347327-3620-4f4e-acfb-f33de4e9b183",
   "metadata": {},
   "outputs": [],
   "source": [
    "data['Returns'] = np.log(data[symbol] / data[symbol].shift(1))  \n",
    "data['Strategy'] = data['Position'].shift(1) * data['Returns']  \n",
    "data.dropna(inplace=True)\n",
    "#np.exp(data[['Returns', 'Strategy']].sum())  \n",
    "#data[['Returns', 'Strategy']].std() * 252 ** 0.5  \n",
    "ax = data[['Returns', 'Strategy']].cumsum(\n",
    "        ).apply(np.exp).plot(figsize=(10, 6))\n",
    "data['Position'].plot(ax=ax, secondary_y='Position', style='--')\n",
    "ax.get_legend().set_bbox_to_anchor((0.25, 0.85));"
   ]
  },
  {
   "cell_type": "code",
   "execution_count": null,
   "id": "24297208-460a-45b4-bcfd-144df1712c48",
   "metadata": {},
   "outputs": [],
   "source": [
    "### Optimization"
   ]
  },
  {
   "cell_type": "code",
   "execution_count": null,
   "id": "8da817ae-e34b-4b32-ae4b-251a635d02bb",
   "metadata": {},
   "outputs": [],
   "source": [
    "from itertools import product\n",
    "sma1 = range(20, 61, 4)  \n",
    "sma2 = range(180, 281, 10)  "
   ]
  },
  {
   "cell_type": "code",
   "execution_count": null,
   "id": "5a6d4136-9ab7-4b40-be5d-79868203af9b",
   "metadata": {},
   "outputs": [],
   "source": [
    "results = pd.DataFrame()\n",
    "symbol = 'Closing Price'\n",
    "for SMA1, SMA2 in product(sma1, sma2):  \n",
    "    data = pd.DataFrame(df[symbol])\n",
    "    data.dropna(inplace=True)\n",
    "    data['Returns'] = np.log(data[symbol] / data[symbol].shift(1))\n",
    "    data['SMA1'] = data[symbol].rolling(SMA1).mean()\n",
    "    data['SMA2'] = data[symbol].rolling(SMA2).mean()\n",
    "    data.dropna(inplace=True)\n",
    "    data['Position'] = np.where(data['SMA1'] > data['SMA2'], 1, -1)\n",
    "    data['Strategy'] = data['Position'].shift(1) * data['Returns']\n",
    "    data.dropna(inplace=True)\n",
    "    perf = np.exp(data[['Returns', 'Strategy']].sum())\n",
    "    results = pd.concat((results, pd.DataFrame(\n",
    "                {'SMA1': SMA1, 'SMA2': SMA2,\n",
    "                 'MARKET': perf['Returns'],\n",
    "                 'STRATEGY': perf['Strategy'],\n",
    "                 'OUT': perf['Strategy'] - perf['Returns']},\n",
    "                 index=[0])), ignore_index=True)  "
   ]
  },
  {
   "cell_type": "code",
   "execution_count": null,
   "id": "c9c01fe9-6bd6-46f0-8453-c8a8bcce57f6",
   "metadata": {},
   "outputs": [],
   "source": [
    "results.sort_values('OUT', ascending=False).head(7)"
   ]
  },
  {
   "cell_type": "code",
   "execution_count": null,
   "id": "655ebae6-722f-41fe-ac33-a56a72c49b7f",
   "metadata": {},
   "outputs": [],
   "source": []
  }
 ],
 "metadata": {
  "kernelspec": {
   "display_name": "Python 3 (ipykernel)",
   "language": "python",
   "name": "python3"
  },
  "language_info": {
   "codemirror_mode": {
    "name": "ipython",
    "version": 3
   },
   "file_extension": ".py",
   "mimetype": "text/x-python",
   "name": "python",
   "nbconvert_exporter": "python",
   "pygments_lexer": "ipython3",
   "version": "3.12.3"
  }
 },
 "nbformat": 4,
 "nbformat_minor": 5
}

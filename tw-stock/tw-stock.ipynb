{
 "cells": [
  {
   "cell_type": "code",
   "execution_count": null,
   "id": "f6eaa76d-7c79-4e76-ada2-1cacd8943709",
   "metadata": {},
   "outputs": [],
   "source": [
    "import pandas as pd\n",
    "import os"
   ]
  },
  {
   "cell_type": "code",
   "execution_count": null,
   "id": "195b46cb-1be8-4060-9e1c-b808185c4889",
   "metadata": {},
   "outputs": [],
   "source": [
    "group = pd.read_csv('group.csv')\n",
    "stock = pd.read_csv('stock.csv')\n",
    "df = pd.merge(stock,group,on='gid',how='inner')"
   ]
  },
  {
   "cell_type": "code",
   "execution_count": null,
   "id": "9b747d49-c8c0-418a-96e4-ccc91692d6b6",
   "metadata": {},
   "outputs": [],
   "source": [
    "group"
   ]
  },
  {
   "cell_type": "code",
   "execution_count": null,
   "id": "7a5a2844-5b14-44f0-91ab-6851cdc790fa",
   "metadata": {},
   "outputs": [],
   "source": [
    "df[ df['gid'] ==24][0:20]"
   ]
  },
  {
   "cell_type": "code",
   "execution_count": null,
   "id": "5837049b-a8d1-4b93-b7e6-9e4c6631f5b2",
   "metadata": {},
   "outputs": [],
   "source": [
    "header=1\n",
    "footer=4\n",
    "stock = pd.read_csv('twse/STOCK_DAY/2412/2015/STOCK_DAY_2412_201503.csv',skiprows=header, skipfooter=footer,engine='python')\n",
    "stock = stock.dropna(axis=1, how='all')\n",
    "stock"
   ]
  },
  {
   "cell_type": "code",
   "execution_count": null,
   "id": "bb9612be-2724-4f0e-a757-a179f1b98a85",
   "metadata": {},
   "outputs": [],
   "source": [
    "# Read files from \"01.csv\" to \"12.csv\"\n",
    "dfs = []\n",
    "header=1\n",
    "footer=5\n",
    "sid = \"2412\"\n",
    "for year in range(2015,2025):\n",
    "    for month in range(1, 13):\n",
    "        filename = f\"STOCK_DAY_{sid}_{year:04}{month:02}.csv\"  # Formats 1 as '01', 2 as '02', ..., 12 as '12'\n",
    "        folder_path = f'twse/STOCK_DAY/{sid}/{year:04}'\n",
    "        file_path = os.path.join(folder_path, filename)\n",
    "    \n",
    "        try:\n",
    "            df = pd.read_csv(file_path,skiprows=header, skipfooter=footer,engine='python')\n",
    "            df = df.dropna(axis=1, how='all')\n",
    "            dfs.append(df)\n",
    "        except FileNotFoundError:\n",
    "            print(f\"File not found: {file_path}\")\n",
    "\n",
    "# Optionally, concatenate all DataFrames\n",
    "df = pd.concat(dfs, ignore_index=True)\n",
    "df"
   ]
  },
  {
   "cell_type": "code",
   "execution_count": null,
   "id": "287eb3ae-da80-4b4c-9ffa-2e8b0d4352a4",
   "metadata": {},
   "outputs": [],
   "source": []
  }
 ],
 "metadata": {
  "kernelspec": {
   "display_name": "Python 3 (ipykernel)",
   "language": "python",
   "name": "python3"
  },
  "language_info": {
   "codemirror_mode": {
    "name": "ipython",
    "version": 3
   },
   "file_extension": ".py",
   "mimetype": "text/x-python",
   "name": "python",
   "nbconvert_exporter": "python",
   "pygments_lexer": "ipython3",
   "version": "3.12.3"
  }
 },
 "nbformat": 4,
 "nbformat_minor": 5
}

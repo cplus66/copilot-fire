{
 "cells": [
  {
   "cell_type": "code",
   "execution_count": null,
   "id": "f6eaa76d-7c79-4e76-ada2-1cacd8943709",
   "metadata": {},
   "outputs": [],
   "source": [
    "import pandas as pd\n",
    "import os\n",
    "import numpy as np\n",
    "from datetime import datetime, timedelta\n",
    "import datetime as dt\n",
    "from pylab import mpl, plt\n",
    "import plotly.graph_objects as go"
   ]
  },
  {
   "cell_type": "code",
   "execution_count": null,
   "id": "14776bd5-2b54-43eb-a984-22d9e225ee3d",
   "metadata": {},
   "outputs": [],
   "source": [
    "# Load stock and group data\n",
    "stock_df = pd.read_csv(\"../stock.csv\", skipinitialspace=True)\n",
    "group_df = pd.read_csv(\"../group.csv\", skipinitialspace=True)\n",
    "\n",
    "# Convert 'sid' and 'gid' to string for consistency\n",
    "stock_df['sid'] = stock_df['sid'].astype(str)\n",
    "stock_df['gid'] = stock_df['gid'].astype(str)\n",
    "group_df['gid'] = group_df['gid'].astype(str)"
   ]
  },
  {
   "cell_type": "code",
   "execution_count": null,
   "id": "86c34976-0ab8-4a63-905c-ccd1d29a5d83",
   "metadata": {},
   "outputs": [],
   "source": [
    "df = pd.read_csv('BWIBBU_d_ALL_20250731.csv',skiprows=1)\n",
    "df['sid'] = df['Security Code'].astype(str)\n",
    "df = df.drop(columns=['Unnamed: 7'])\n",
    "df.info()"
   ]
  },
  {
   "cell_type": "code",
   "execution_count": null,
   "id": "655ebae6-722f-41fe-ac33-a56a72c49b7f",
   "metadata": {},
   "outputs": [],
   "source": [
    "stock_list = [\n",
    "    '9925','9908','1726','2412',\n",
    "    '1203','1231','1769','2886','1234',\n",
    "    '5876','2356','2433','6697','1817',\n",
    "    '1775','9937','2245','3611','4938',\n",
    "    '9941','2114','6281','1264','2741',\n",
    "    '8416','9924','4549','8083','4105',\n",
    "    '8048','1788','1707','8435','1702',\n",
    "    '8109','1232','1737','9926','5243',\n",
    "    '2894','1537','4104','5878','8370',\n",
    "    '8464']\n",
    "\n",
    "df_filtered = df[df['sid'].isin(stock_list)]\n",
    "df_filtered = df_filtered.sort_values('Dividend yield (%)',ascending=False)\n",
    "# Merge with stock data to get gid and sname\n",
    "merged_df = df_filtered.merge(stock_df, on='sid', how='left')\n",
    "\n",
    "# Merge with group data to get gcname and gname\n",
    "final_df = merged_df.merge(group_df, on='gid', how='left')\n",
    "final_df"
   ]
  },
  {
   "cell_type": "code",
   "execution_count": null,
   "id": "32e55e57-514d-4c64-a88c-fa52d092df7d",
   "metadata": {},
   "outputs": [],
   "source": []
  }
 ],
 "metadata": {
  "kernelspec": {
   "display_name": "Python 3 (ipykernel)",
   "language": "python",
   "name": "python3"
  },
  "language_info": {
   "codemirror_mode": {
    "name": "ipython",
    "version": 3
   },
   "file_extension": ".py",
   "mimetype": "text/x-python",
   "name": "python",
   "nbconvert_exporter": "python",
   "pygments_lexer": "ipython3",
   "version": "3.12.3"
  }
 },
 "nbformat": 4,
 "nbformat_minor": 5
}

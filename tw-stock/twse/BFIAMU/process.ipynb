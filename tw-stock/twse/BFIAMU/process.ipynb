{
 "cells": [
  {
   "cell_type": "code",
   "execution_count": null,
   "id": "e4829d4a-388b-4bbc-b18d-e53b07479550",
   "metadata": {},
   "outputs": [],
   "source": [
    "import pandas as pd\n",
    "import os\n",
    "from io import StringIO\n",
    "import plotly.express as px\n",
    "\n",
    "all_dataframes = []\n",
    "\n",
    "for filename in os.listdir('.'):\n",
    "    if filename.startswith('BFIAMU_') and filename.endswith('.csv'):\n",
    "        try:\n",
    "            date_str = filename.split('_')[1].split('.')[0]\n",
    "            date_dt = pd.to_datetime(date_str, format='%Y%m%d')\n",
    "\n",
    "            with open(filename, 'r', encoding='windows-1252') as file:\n",
    "                lines = file.readlines()[1:]\n",
    "            remark_index = next((i for i, line in enumerate(lines) if line.startswith('Remark:')), len(lines))\n",
    "            valid_lines = lines[:remark_index]\n",
    "\n",
    "            csv_data = StringIO(''.join(valid_lines))\n",
    "            df = pd.read_csv(csv_data)\n",
    "            df.dropna(axis=1, how='all', inplace=True)\n",
    "            df.insert(0, 'Date', date_dt)\n",
    "\n",
    "            all_dataframes.append(df)\n",
    "\n",
    "        except Exception as e:\n",
    "            print(f\"Error processing {filename}: {e}\")\n",
    "\n",
    "combined_df = pd.concat(all_dataframes, ignore_index=True)\n",
    "combined_df.sort_values(by='Date', inplace=True)\n",
    "\n",
    "food_df = combined_df[combined_df['Category of Index'] == 'Food'].copy()\n",
    "food_df['Trade Volume'] = food_df['Trade Volume'].str.replace(',', '').astype(float)"
   ]
  },
  {
   "cell_type": "code",
   "execution_count": null,
   "id": "6b8ac1b9-5961-46c7-8c7a-193e01f5b209",
   "metadata": {},
   "outputs": [],
   "source": [
    "fig = px.line(food_df, x='Date', y='Trade Volume', title='Trade Volume Over Time for Food Category (Sorted by Date)')\n",
    "fig.show()"
   ]
  },
  {
   "cell_type": "code",
   "execution_count": null,
   "id": "e12ec6ca-04fc-4fbc-a5fb-bcac5e227065",
   "metadata": {},
   "outputs": [],
   "source": []
  }
 ],
 "metadata": {
  "kernelspec": {
   "display_name": "Python 3 (ipykernel)",
   "language": "python",
   "name": "python3"
  },
  "language_info": {
   "codemirror_mode": {
    "name": "ipython",
    "version": 3
   },
   "file_extension": ".py",
   "mimetype": "text/x-python",
   "name": "python",
   "nbconvert_exporter": "python",
   "pygments_lexer": "ipython3",
   "version": "3.12.3"
  }
 },
 "nbformat": 4,
 "nbformat_minor": 5
}

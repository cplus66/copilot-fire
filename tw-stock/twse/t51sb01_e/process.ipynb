{
 "cells": [
  {
   "cell_type": "code",
   "execution_count": null,
   "id": "cf46cd88-9646-4bd1-9a0d-79ab49366b16",
   "metadata": {},
   "outputs": [],
   "source": [
    "from bs4 import BeautifulSoup\n",
    "import pandas as pd\n",
    "from io import StringIO\n",
    "\n",
    "# Step 1: Read the HTML file using Big5 encoding\n",
    "with open(\"t51sb01_2025.html\", \"r\", encoding=\"big5\", errors=\"ignore\") as file:\n",
    "    soup = BeautifulSoup(file, \"html.parser\")\n",
    "\n",
    "# Step 2: Extract all tables using pandas\n",
    "html_io = StringIO(str(soup))\n",
    "tables = pd.read_html(html_io)\n",
    "\n",
    "# Step 3: Select the second table (index 1)\n",
    "df = tables[1] if len(tables) > 1 else pd.DataFrame()\n",
    "\n",
    "df.columns = df.iloc[0]  # Set row 0 as column index\n",
    "df = df[1:]              # Remove the first two rows\n",
    "\n",
    "# Step 4: Save the cleaned DataFrame to CSV\n",
    "df.to_csv(\"taiwan_stock_info_2025.csv\", index=False)\n",
    "\n",
    "df.head()"
   ]
  },
  {
   "cell_type": "code",
   "execution_count": null,
   "id": "86dc6f6b-e58f-4006-8cac-aacd4430b051",
   "metadata": {},
   "outputs": [],
   "source": [
    "df[df['Code'] == '2412']"
   ]
  },
  {
   "cell_type": "code",
   "execution_count": null,
   "id": "4c65fed2-6dd2-4fa9-b9af-8f4815b64a31",
   "metadata": {},
   "outputs": [],
   "source": []
  }
 ],
 "metadata": {
  "kernelspec": {
   "display_name": "Python 3 (ipykernel)",
   "language": "python",
   "name": "python3"
  },
  "language_info": {
   "codemirror_mode": {
    "name": "ipython",
    "version": 3
   },
   "file_extension": ".py",
   "mimetype": "text/x-python",
   "name": "python",
   "nbconvert_exporter": "python",
   "pygments_lexer": "ipython3",
   "version": "3.12.3"
  }
 },
 "nbformat": 4,
 "nbformat_minor": 5
}

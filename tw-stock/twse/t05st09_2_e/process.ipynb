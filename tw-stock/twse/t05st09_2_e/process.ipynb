{
 "cells": [
  {
   "cell_type": "code",
   "execution_count": null,
   "id": "be819b75-2538-4fad-905c-0aca1a11ff10",
   "metadata": {},
   "outputs": [],
   "source": [
    "from bs4 import BeautifulSoup\n",
    "import pandas as pd\n",
    "from io import StringIO\n",
    "import re\n",
    "import os\n",
    "\n",
    "# Initialize an empty list to collect DataFrames\n",
    "all_dataframes = []\n",
    "\n",
    "# Loop through years 2015 to 2025\n",
    "for year in range(2015, 2026):\n",
    "    filename = f\"t05st09_2_e_{year}.html\"\n",
    "    if os.path.exists(filename):\n",
    "        try:\n",
    "            with open(filename, \"r\", encoding=\"big5\", errors=\"ignore\") as file:\n",
    "                soup = BeautifulSoup(file, \"html.parser\")\n",
    "\n",
    "            html_io = StringIO(str(soup))\n",
    "            tables = pd.read_html(html_io)\n",
    "\n",
    "            if len(tables) > 2:\n",
    "                df = tables[2]\n",
    "                df.dropna(how='all', inplace=True)\n",
    "                df = df[df[df.columns[0]] != df.columns[0]]\n",
    "                df.iloc[:, 0] = df.iloc[:, 0].fillna(\"Company\").replace(\"\", \"Company\")\n",
    "                df.columns = df.iloc[1]  # Set second row as header\n",
    "                df = df[2:]              # Remove the first two rows\n",
    "                df.reset_index(drop=True, inplace=True)\n",
    "                df.insert(0, \"Year\", str(year))\n",
    "                all_dataframes.append(df)\n",
    "        except Exception as e:\n",
    "            print(f\"Failed to process {filename}: {e}\")\n",
    "\n",
    "# Concatenate all DataFrames\n",
    "if all_dataframes:\n",
    "    combined_df = pd.concat(all_dataframes, ignore_index=True)\n",
    "    combined_df.to_csv(\"taiwan_stock_dividends_2015_2025.csv\", index=False)\n",
    "    print(\"Combined CSV file 'all_years_taiwan_stock_dividends.csv' has been created successfully.\")\n",
    "else:\n",
    "    print(\"No valid files found to process.\")\n"
   ]
  },
  {
   "cell_type": "code",
   "execution_count": null,
   "id": "84a027b0-9a32-4d0b-90be-2e9281891868",
   "metadata": {},
   "outputs": [],
   "source": [
    "df.info()"
   ]
  },
  {
   "cell_type": "code",
   "execution_count": null,
   "id": "720f4773-d772-45c2-b01e-dcbde479b948",
   "metadata": {},
   "outputs": [],
   "source": [
    "df[df['Company code'] == '2412']"
   ]
  },
  {
   "cell_type": "code",
   "execution_count": null,
   "id": "0fe37964-2ed0-44c0-bce3-98c0deae3664",
   "metadata": {},
   "outputs": [],
   "source": [
    "combined_df[combined_df['Company code'] == '2412']['Cash dividends distributed from retained earnings (NTD/share)']"
   ]
  },
  {
   "cell_type": "code",
   "execution_count": null,
   "id": "93c14247-d2f1-458d-b364-56b72dd2a485",
   "metadata": {},
   "outputs": [],
   "source": []
  }
 ],
 "metadata": {
  "kernelspec": {
   "display_name": "Python 3 (ipykernel)",
   "language": "python",
   "name": "python3"
  },
  "language_info": {
   "codemirror_mode": {
    "name": "ipython",
    "version": 3
   },
   "file_extension": ".py",
   "mimetype": "text/x-python",
   "name": "python",
   "nbconvert_exporter": "python",
   "pygments_lexer": "ipython3",
   "version": "3.12.3"
  }
 },
 "nbformat": 4,
 "nbformat_minor": 5
}

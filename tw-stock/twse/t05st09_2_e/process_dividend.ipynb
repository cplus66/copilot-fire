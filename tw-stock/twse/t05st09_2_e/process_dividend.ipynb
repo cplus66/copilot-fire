{
 "cells": [
  {
   "cell_type": "code",
   "execution_count": null,
   "id": "be819b75-2538-4fad-905c-0aca1a11ff10",
   "metadata": {},
   "outputs": [],
   "source": [
    "from bs4 import BeautifulSoup\n",
    "import pandas as pd\n",
    "from io import StringIO\n",
    "import re\n",
    "import os\n",
    "\n",
    "# Initialize an empty list to collect DataFrames\n",
    "all_dataframes = []\n",
    "\n",
    "# Loop through years 2015 to 2025\n",
    "for year in range(2015, 2026):\n",
    "    filename = f\"t05st09_2_e_{year}.html\"\n",
    "    if os.path.exists(filename):\n",
    "        try:\n",
    "            with open(filename, \"r\", encoding=\"big5\", errors=\"ignore\") as file:\n",
    "                soup = BeautifulSoup(file, \"html.parser\")\n",
    "\n",
    "            html_io = StringIO(str(soup))\n",
    "            tables = pd.read_html(html_io)\n",
    "\n",
    "            if len(tables) > 2:\n",
    "                df = tables[2]\n",
    "                df.dropna(how='all', inplace=True)\n",
    "                df = df[df[df.columns[0]] != df.columns[0]]\n",
    "                df.iloc[:, 0] = df.iloc[:, 0].fillna(\"Company\").replace(\"\", \"Company\")\n",
    "                df.columns = df.iloc[1]  # Set second row as header\n",
    "                df = df[2:]              # Remove the first two rows\n",
    "                df.reset_index(drop=True, inplace=True)\n",
    "                df.insert(0, \"Year\", str(year))\n",
    "                all_dataframes.append(df)\n",
    "        except Exception as e:\n",
    "            print(f\"Failed to process {filename}: {e}\")\n",
    "\n",
    "# Concatenate all DataFrames\n",
    "if all_dataframes:\n",
    "    combined_df = pd.concat(all_dataframes, ignore_index=True)\n",
    "    combined_df.to_csv(\"taiwan_stock_dividends_2015_2025.csv\", index=False)\n",
    "    print(\"Combined CSV file 'all_years_taiwan_stock_dividends.csv' has been created successfully.\")\n",
    "else:\n",
    "    print(\"No valid files found to process.\")\n"
   ]
  },
  {
   "cell_type": "code",
   "execution_count": null,
   "id": "cab6f7e5-798e-4fb2-8351-693442ca003e",
   "metadata": {},
   "outputs": [],
   "source": [
    "import plotly.express as px\n",
    "\n",
    "stock_list = ['1233','1303','1473','1477','2103']\n",
    "df_pic = combined_df[combined_df['Company code'].isin(stock_list)]\n",
    "df_pic_rename = df_pic.rename(columns={'Cash dividends distributed from retained earnings (NTD/share)' : 'Cash div'})\n",
    "df_pic_year_cash_div = df_pic_rename[['Company code','Year','Cash div']]\n",
    "df_pic_year_cash_div.loc[:,'Cash div'] = df_pic_year_cash_div['Cash div'].astype(float)\n",
    "df_pic_year_cash_div.to_csv('dividend_year_1233_1303_1473_2103.csv')\n",
    "# Create a line chart of Cash Dividend over Years for each Company Code\n",
    "fig = px.line(df_pic_year_cash_div, x='Year', y='Cash div', color='Company code',\n",
    "              title='Cash Dividend Over Years by Company Code',\n",
    "              markers=True)\n",
    "fig.show()"
   ]
  },
  {
   "cell_type": "code",
   "execution_count": null,
   "id": "d590e14c-e7d3-4354-8735-bc5dfff68953",
   "metadata": {},
   "outputs": [],
   "source": [
    "dividend_min = 10\n",
    "\n",
    "df_pic = combined_df.sort_values(by='Year')\n",
    "df_pic_rename = df_pic.rename(columns={'Cash dividends distributed from retained earnings (NTD/share)' : 'Cash div'})\n",
    "df_filtered = df_pic_rename[['Company code','Year','Cash div']]\n",
    "df_filtered.loc[:,'Cash div'] = df_filtered['Cash div'].astype(float)\n",
    "\n",
    "# Calculate average cash dividend for each stock\n",
    "avg_divs = df_filtered.groupby('Company code')['Cash div'].mean()\n",
    "\n",
    "# Filter stocks with average cash dividend > 0.5\n",
    "valid_stocks = avg_divs[avg_divs > dividend_min].index\n",
    "\n",
    "# Filter the original data to include only valid stocks\n",
    "df_valid = df_filtered[df_filtered['Company code'].isin(valid_stocks)]\n",
    "\n",
    "# Calculate and sort standard deviation of cash dividends for valid stocks\n",
    "std_devs = df_valid.groupby('Company code')['Cash div'].std().sort_values()\n",
    "\n",
    "std_devs_filtered = std_devs.dropna()\n",
    "std_devs_filtered = std_devs_filtered[std_devs_filtered != 0]\n",
    "print(\"Standard deviations of yearly cash dividends (average > 0.5, sorted from low to high):\")\n",
    "print(std_devs_filtered)"
   ]
  },
  {
   "cell_type": "code",
   "execution_count": null,
   "id": "bd153d4b-a1c1-4f13-9749-1c91f9280be5",
   "metadata": {},
   "outputs": [],
   "source": [
    "type(std_devs_filtered)"
   ]
  },
  {
   "cell_type": "code",
   "execution_count": null,
   "id": "b770a691-4852-404b-ace4-8d20f82d4ab9",
   "metadata": {},
   "outputs": [],
   "source": [
    "# Calculate average and standard deviation of cash dividends for each stock\n",
    "stats = df_filtered.groupby('Company code')['Cash div'].agg(['mean', 'std'])\n",
    "\n",
    "# Filter stocks with average cash dividend > 0.5\n",
    "stats_filtered = stats[stats['mean'] > 0.5].sort_values(by='std')\n",
    "\n",
    "# Rename columns for clarity\n",
    "stats_filtered = stats_filtered.rename(columns={'mean': 'Average Dividend', 'std': 'Standard Deviation'})\n",
    "\n",
    "# Display the result table\n",
    "print(\"Company Code | Average Dividend | Standard Deviation\")\n",
    "print(stats_filtered)\n",
    "stats_filtered.to_csv('dividend_average_std_2025-09.csv')"
   ]
  },
  {
   "cell_type": "code",
   "execution_count": null,
   "id": "9b46b46e-b843-437d-8e63-fd8fc75ffad6",
   "metadata": {},
   "outputs": [],
   "source": [
    "stats_filtered['alpha'] = stats_filtered['Standard Deviation'] / stats_filtered['Average Dividend']\n",
    "stats_filtered_sort = stats_filtered.sort_values(by='alpha')\n",
    "stats_filtered_sort.to_csv('dividend_alpha.csv')"
   ]
  },
  {
   "cell_type": "code",
   "execution_count": null,
   "id": "a3ccf3f0-51ac-47c8-a711-0647ed1170df",
   "metadata": {},
   "outputs": [],
   "source": [
    "stats_filtered_sort[0:30].index"
   ]
  },
  {
   "cell_type": "code",
   "execution_count": null,
   "id": "32dadd6e-805c-49ab-b0b8-2d1f9b5794fc",
   "metadata": {},
   "outputs": [],
   "source": [
    "import plotly.express as px\n",
    "\n",
    "stock_list = ['1550']\n",
    "df_pic = combined_df[combined_df['Company code'].isin(stock_list)]\n",
    "df_pic_rename = df_pic.rename(columns={'Cash dividends distributed from retained earnings (NTD/share)' : 'Cash div'})\n",
    "df_pic_year_cash_div = df_pic_rename[['Company code','Year','Cash div']]\n",
    "df_pic_year_cash_div.loc[:,'Cash div'] = df_pic_year_cash_div['Cash div'].astype(float)\n",
    "# Create a line chart of Cash Dividend over Years for each Company Code\n",
    "fig = px.line(df_pic_year_cash_div, x='Year', y='Cash div', color='Company code',\n",
    "              title='Cash Dividend Over Years by Company Code',\n",
    "              markers=True)\n",
    "fig.show()"
   ]
  },
  {
   "cell_type": "code",
   "execution_count": null,
   "id": "e005831c-cab1-464f-80ef-d1f22b1fc7f0",
   "metadata": {},
   "outputs": [],
   "source": [
    "stock = pd.read_csv('../stock.csv')\n",
    "stock.rename(columns={'sid':'Company code'},inplace=True)\n",
    "#stock['Company code'] = df['Company code'].astype(str)\n",
    "stock.set_index('Company code',inplace=True)\n",
    "stock.to_csv('stock_modified.csv')\n",
    "stock.info()"
   ]
  },
  {
   "cell_type": "code",
   "execution_count": null,
   "id": "6e7aef5f-1906-4420-ab04-23a76e663e0b",
   "metadata": {},
   "outputs": [],
   "source": [
    "stats_filtered_sort.join(stock).to_csv('dividend_alpha_join.csv')"
   ]
  },
  {
   "cell_type": "code",
   "execution_count": null,
   "id": "2c5a9bc2-c59a-44ba-a330-be79840207f1",
   "metadata": {},
   "outputs": [],
   "source": [
    "stats_filtered_sort.info()"
   ]
  },
  {
   "cell_type": "code",
   "execution_count": null,
   "id": "5901c68e-81da-42ee-ac1d-9acd4b0ce845",
   "metadata": {},
   "outputs": [],
   "source": []
  },
  {
   "cell_type": "code",
   "execution_count": null,
   "id": "92765739-fc25-4fd9-9135-69b30a6a7d8d",
   "metadata": {},
   "outputs": [],
   "source": [
    "df_filtered[['Company code','Cash div']].groupby('Company code').count() > 8"
   ]
  },
  {
   "cell_type": "code",
   "execution_count": null,
   "id": "e4a46df9-6f57-4096-bb2b-af0af182307c",
   "metadata": {},
   "outputs": [],
   "source": [
    "record_count = 10\n",
    "x = df_filtered[['Company code','Cash div']].groupby('Company code').count() >= record_count"
   ]
  },
  {
   "cell_type": "code",
   "execution_count": null,
   "id": "d90cc369-0d4f-44e7-a0fc-c24c6c657e83",
   "metadata": {},
   "outputs": [],
   "source": [
    "type(x)"
   ]
  },
  {
   "cell_type": "code",
   "execution_count": null,
   "id": "75f97dcd-69e3-48ec-9b5e-1da7a97d02ae",
   "metadata": {},
   "outputs": [],
   "source": [
    "x.info()"
   ]
  },
  {
   "cell_type": "code",
   "execution_count": null,
   "id": "35d61b4a-8cb6-44dd-aae1-8e2e026268c1",
   "metadata": {},
   "outputs": [],
   "source": [
    "y=x[x['Cash div'] == True].index"
   ]
  },
  {
   "cell_type": "code",
   "execution_count": null,
   "id": "40a5bac1-da8c-40e9-9949-ccc943b4eb90",
   "metadata": {},
   "outputs": [],
   "source": [
    "y"
   ]
  },
  {
   "cell_type": "code",
   "execution_count": null,
   "id": "8dc45ed4-12fe-4e88-a056-821e2fed545c",
   "metadata": {},
   "outputs": [],
   "source": [
    "type(y)"
   ]
  },
  {
   "cell_type": "code",
   "execution_count": null,
   "id": "f3c4a2d9-b94d-4264-a3e5-8b64c46c4f95",
   "metadata": {},
   "outputs": [],
   "source": [
    "x.info()"
   ]
  },
  {
   "cell_type": "code",
   "execution_count": null,
   "id": "94420db7-b3d8-477f-91bf-5bcba046a905",
   "metadata": {},
   "outputs": [],
   "source": [
    "import plotly.express as px\n",
    "\n",
    "stock_list = ['9925','9908','1726','9908','2412']\n",
    "stock_list = ['1203','1231','1769','2886','1234']\n",
    "stock_list = ['5876','6887','2356','6697']\n",
    "stock_list = ['1817','1775','9937','2245','3611']\n",
    "stock_list = ['4938','9941','2114','6281']\n",
    "stock_list = ['1264','2741','8416','9924','4549']\n",
    "stock_list = ['8083','4105','8048','1788','1707']\n",
    "stock_list = ['8435','1702','8109','1232','1737']\n",
    "stock_list = ['9926','5243','2894','1537','4104']\n",
    "stock_list = ['5878','8370','8464','','']\n",
    "\n",
    "df_pic = combined_df[combined_df['Company code'].isin(stock_list)]\n",
    "df_pic_rename = df_pic.rename(columns={'Cash dividends distributed from retained earnings (NTD/share)' : 'Cash div'})\n",
    "df_pic_year_cash_div = df_pic_rename[['Company code','Year','Cash div']]\n",
    "df_pic_year_cash_div.loc[:,'Cash div'] = df_pic_year_cash_div['Cash div'].astype(float)\n",
    "df_pic_year_cash_div.to_csv('dividend_year_1233_1303_1473_2103.csv')\n",
    "# Create a line chart of Cash Dividend over Years for each Company Code\n",
    "fig = px.line(df_pic_year_cash_div, x='Year', y='Cash div', color='Company code',\n",
    "              title='Cash Dividend Over Years by Company Code',\n",
    "              markers=True)\n",
    "fig.show()"
   ]
  },
  {
   "cell_type": "code",
   "execution_count": null,
   "id": "07f3406c-832b-41b1-894b-4489100d1e8e",
   "metadata": {},
   "outputs": [],
   "source": []
  }
 ],
 "metadata": {
  "kernelspec": {
   "display_name": "Python 3 (ipykernel)",
   "language": "python",
   "name": "python3"
  },
  "language_info": {
   "codemirror_mode": {
    "name": "ipython",
    "version": 3
   },
   "file_extension": ".py",
   "mimetype": "text/x-python",
   "name": "python",
   "nbconvert_exporter": "python",
   "pygments_lexer": "ipython3",
   "version": "3.12.3"
  }
 },
 "nbformat": 4,
 "nbformat_minor": 5
}

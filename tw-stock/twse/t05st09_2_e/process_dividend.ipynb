{
 "cells": [
  {
   "cell_type": "code",
   "execution_count": null,
   "id": "be819b75-2538-4fad-905c-0aca1a11ff10",
   "metadata": {},
   "outputs": [],
   "source": [
    "from bs4 import BeautifulSoup\n",
    "import pandas as pd\n",
    "from io import StringIO\n",
    "import re\n",
    "import os\n",
    "\n",
    "# Initialize an empty list to collect DataFrames\n",
    "all_dataframes = []\n",
    "\n",
    "# Loop through years 2015 to 2025\n",
    "for year in range(2015, 2026):\n",
    "    filename = f\"t05st09_2_e_{year}.html\"\n",
    "    if os.path.exists(filename):\n",
    "        try:\n",
    "            with open(filename, \"r\", encoding=\"big5\", errors=\"ignore\") as file:\n",
    "                soup = BeautifulSoup(file, \"html.parser\")\n",
    "\n",
    "            html_io = StringIO(str(soup))\n",
    "            tables = pd.read_html(html_io)\n",
    "\n",
    "            if len(tables) > 2:\n",
    "                df = tables[2]\n",
    "                df.dropna(how='all', inplace=True)\n",
    "                df = df[df[df.columns[0]] != df.columns[0]]\n",
    "                df.iloc[:, 0] = df.iloc[:, 0].fillna(\"Company\").replace(\"\", \"Company\")\n",
    "                df.columns = df.iloc[1]  # Set second row as header\n",
    "                df = df[2:]              # Remove the first two rows\n",
    "                df.reset_index(drop=True, inplace=True)\n",
    "                df.insert(0, \"Year\", str(year))\n",
    "                all_dataframes.append(df)\n",
    "        except Exception as e:\n",
    "            print(f\"Failed to process {filename}: {e}\")\n",
    "\n",
    "# Concatenate all DataFrames\n",
    "if all_dataframes:\n",
    "    combined_df = pd.concat(all_dataframes, ignore_index=True)\n",
    "    combined_df.to_csv(\"taiwan_stock_dividends_2015_2025.csv\", index=False)\n",
    "    print(\"Combined CSV file 'all_years_taiwan_stock_dividends.csv' has been created successfully.\")\n",
    "else:\n",
    "    print(\"No valid files found to process.\")\n"
   ]
  },
  {
   "cell_type": "code",
   "execution_count": null,
   "id": "cab6f7e5-798e-4fb2-8351-693442ca003e",
   "metadata": {},
   "outputs": [],
   "source": [
    "import plotly.express as px\n",
    "\n",
    "stock_list = ['1233','1303','1473','1477','2103']\n",
    "df_pic = combined_df[combined_df['Company code'].isin(stock_list)]\n",
    "df_pic_rename = df_pic.rename(columns={'Cash dividends distributed from retained earnings (NTD/share)' : 'Cash div'})\n",
    "df_pic_year_cash_div = df_pic_rename[['Company code','Year','Cash div']]\n",
    "df_pic_year_cash_div.loc[:,'Cash div'] = df_pic_year_cash_div['Cash div'].astype(float)\n",
    "df_pic_year_cash_div.to_csv('dividend_year_1233_1303_1473_2103.csv')\n",
    "# Create a line chart of Cash Dividend over Years for each Company Code\n",
    "fig = px.line(df_pic_year_cash_div, x='Year', y='Cash div', color='Company code',\n",
    "              title='Cash Dividend Over Years by Company Code',\n",
    "              markers=True)\n",
    "fig.show()"
   ]
  },
  {
   "cell_type": "code",
   "execution_count": null,
   "id": "d590e14c-e7d3-4354-8735-bc5dfff68953",
   "metadata": {},
   "outputs": [],
   "source": [
    "df_pic = combined_df.sort_values(by='Year')\n",
    "df_pic_rename = df_pic.rename(columns={'Cash dividends distributed from retained earnings (NTD/share)' : 'Cash div'})\n",
    "df_filtered = df_pic_rename[['Company code','Year','Cash div']]\n",
    "df_filtered.loc[:,'Cash div'] = df_filtered['Cash div'].astype(float)\n",
    "\n",
    "# Calculate average cash dividend for each stock\n",
    "avg_divs = df_filtered.groupby('Company code')['Cash div'].mean()\n",
    "\n",
    "# Filter stocks with average cash dividend > 0.5\n",
    "valid_stocks = avg_divs[avg_divs > 0.5].index\n",
    "\n",
    "# Filter the original data to include only valid stocks\n",
    "df_valid = df_filtered[df_filtered['Company code'].isin(valid_stocks)]\n",
    "\n",
    "# Calculate and sort standard deviation of cash dividends for valid stocks\n",
    "std_devs = df_valid.groupby('Company code')['Cash div'].std().sort_values()\n",
    "\n",
    "std_devs_filtered = std_devs.dropna()\n",
    "std_devs_filtered = std_devs_filtered[std_devs_filtered != 0]\n",
    "print(\"Standard deviations of yearly cash dividends (average > 0.5, sorted from low to high):\")\n",
    "print(std_devs_filtered)"
   ]
  },
  {
   "cell_type": "code",
   "execution_count": null,
   "id": "bd153d4b-a1c1-4f13-9749-1c91f9280be5",
   "metadata": {},
   "outputs": [],
   "source": []
  }
 ],
 "metadata": {
  "kernelspec": {
   "display_name": "Python 3 (ipykernel)",
   "language": "python",
   "name": "python3"
  },
  "language_info": {
   "codemirror_mode": {
    "name": "ipython",
    "version": 3
   },
   "file_extension": ".py",
   "mimetype": "text/x-python",
   "name": "python",
   "nbconvert_exporter": "python",
   "pygments_lexer": "ipython3",
   "version": "3.12.3"
  }
 },
 "nbformat": 4,
 "nbformat_minor": 5
}

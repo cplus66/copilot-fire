{
 "cells": [
  {
   "cell_type": "code",
   "execution_count": null,
   "id": "be819b75-2538-4fad-905c-0aca1a11ff10",
   "metadata": {},
   "outputs": [],
   "source": [
    "from bs4 import BeautifulSoup\n",
    "import pandas as pd\n",
    "from io import StringIO\n",
    "import re\n",
    "import os\n",
    "\n",
    "# Initialize an empty list to collect DataFrames\n",
    "all_dataframes = []\n",
    "\n",
    "# Loop through years 2015 to 2025\n",
    "for year in range(2015, 2026):\n",
    "    filename = f\"t05st09_2_e_{year}.html\"\n",
    "    if os.path.exists(filename):\n",
    "        try:\n",
    "            with open(filename, \"r\", encoding=\"big5\", errors=\"ignore\") as file:\n",
    "                soup = BeautifulSoup(file, \"html.parser\")\n",
    "\n",
    "            html_io = StringIO(str(soup))\n",
    "            tables = pd.read_html(html_io)\n",
    "\n",
    "            if len(tables) > 2:\n",
    "                df = tables[2]\n",
    "                df.dropna(how='all', inplace=True)\n",
    "                df = df[df[df.columns[0]] != df.columns[0]]\n",
    "                df.iloc[:, 0] = df.iloc[:, 0].fillna(\"Company\").replace(\"\", \"Company\")\n",
    "                df.columns = df.iloc[1]  # Set second row as header\n",
    "                df = df[2:]              # Remove the first two rows\n",
    "                df.reset_index(drop=True, inplace=True)\n",
    "                df.insert(0, \"Year\", str(year))\n",
    "                all_dataframes.append(df)\n",
    "        except Exception as e:\n",
    "            print(f\"Failed to process {filename}: {e}\")\n",
    "\n",
    "# Concatenate all DataFrames\n",
    "if all_dataframes:\n",
    "    combined_df = pd.concat(all_dataframes, ignore_index=True)\n",
    "    combined_df.to_csv(\"taiwan_stock_dividends_2015_2025.csv\", index=False)\n",
    "    print(\"Combined CSV file 'all_years_taiwan_stock_dividends.csv' has been created successfully.\")\n",
    "else:\n",
    "    print(\"No valid files found to process.\")\n"
   ]
  },
  {
   "cell_type": "code",
   "execution_count": 236,
   "id": "cab6f7e5-798e-4fb2-8351-693442ca003e",
   "metadata": {},
   "outputs": [
    {
     "data": {
      "application/vnd.plotly.v1+json": {
       "config": {
        "plotlyServerURL": "https://plot.ly"
       },
       "data": [
        {
         "hovertemplate": "Company code=1233<br>Year=%{x}<br>Cash div=%{y}<extra></extra>",
         "legendgroup": "1233",
         "line": {
          "color": "#636efa",
          "dash": "solid"
         },
         "marker": {
          "symbol": "circle"
         },
         "mode": "lines+markers",
         "name": "1233",
         "orientation": "v",
         "showlegend": true,
         "type": "scatter",
         "x": [
          "2015",
          "2016",
          "2017",
          "2018",
          "2019",
          "2020",
          "2021",
          "2022",
          "2023",
          "2024"
         ],
         "xaxis": "x",
         "y": [
          2,
          1.5,
          2.25,
          1.9,
          1.6,
          0.6,
          0.69,
          0.85,
          0.9,
          0.95
         ],
         "yaxis": "y"
        },
        {
         "hovertemplate": "Company code=1303<br>Year=%{x}<br>Cash div=%{y}<extra></extra>",
         "legendgroup": "1303",
         "line": {
          "color": "#EF553B",
          "dash": "solid"
         },
         "marker": {
          "symbol": "circle"
         },
         "mode": "lines+markers",
         "name": "1303",
         "orientation": "v",
         "showlegend": true,
         "type": "scatter",
         "x": [
          "2015",
          "2016",
          "2017",
          "2018",
          "2019",
          "2020",
          "2021",
          "2022",
          "2023",
          "2024"
         ],
         "xaxis": "x",
         "y": [
          3.3,
          4.5,
          5.1,
          5,
          2.2,
          2.4,
          7.5,
          3,
          0.7,
          0.7
         ],
         "yaxis": "y"
        },
        {
         "hovertemplate": "Company code=1473<br>Year=%{x}<br>Cash div=%{y}<extra></extra>",
         "legendgroup": "1473",
         "line": {
          "color": "#00cc96",
          "dash": "solid"
         },
         "marker": {
          "symbol": "circle"
         },
         "mode": "lines+markers",
         "name": "1473",
         "orientation": "v",
         "showlegend": true,
         "type": "scatter",
         "x": [
          "2015",
          "2016",
          "2017",
          "2018",
          "2019",
          "2020",
          "2021",
          "2022",
          "2023",
          "2024"
         ],
         "xaxis": "x",
         "y": [
          1.2,
          1.2,
          0.5,
          0.5,
          0.5,
          0,
          0,
          1,
          1.2,
          2
         ],
         "yaxis": "y"
        },
        {
         "hovertemplate": "Company code=1477<br>Year=%{x}<br>Cash div=%{y}<extra></extra>",
         "legendgroup": "1477",
         "line": {
          "color": "#ab63fa",
          "dash": "solid"
         },
         "marker": {
          "symbol": "circle"
         },
         "mode": "lines+markers",
         "name": "1477",
         "orientation": "v",
         "showlegend": true,
         "type": "scatter",
         "x": [
          "2015",
          "2016",
          "2017",
          "2018",
          "2019",
          "2020",
          "2021",
          "2022",
          "2023",
          "2024",
          "2025"
         ],
         "xaxis": "x",
         "y": [
          9.52,
          6.72,
          5.1,
          7.1,
          5,
          8,
          9.5,
          14.5,
          16.4,
          10.1,
          6
         ],
         "yaxis": "y"
        },
        {
         "hovertemplate": "Company code=2103<br>Year=%{x}<br>Cash div=%{y}<extra></extra>",
         "legendgroup": "2103",
         "line": {
          "color": "#FFA15A",
          "dash": "solid"
         },
         "marker": {
          "symbol": "circle"
         },
         "mode": "lines+markers",
         "name": "2103",
         "orientation": "v",
         "showlegend": true,
         "type": "scatter",
         "x": [
          "2015",
          "2016",
          "2017",
          "2018",
          "2019",
          "2020",
          "2021",
          "2022",
          "2023",
          "2024"
         ],
         "xaxis": "x",
         "y": [
          1.06,
          1,
          0.96,
          0.98,
          0.5,
          0.36,
          2.4,
          1.08,
          0.41,
          0.63
         ],
         "yaxis": "y"
        }
       ],
       "layout": {
        "legend": {
         "title": {
          "text": "Company code"
         },
         "tracegroupgap": 0
        },
        "template": {
         "data": {
          "bar": [
           {
            "error_x": {
             "color": "#2a3f5f"
            },
            "error_y": {
             "color": "#2a3f5f"
            },
            "marker": {
             "line": {
              "color": "#E5ECF6",
              "width": 0.5
             },
             "pattern": {
              "fillmode": "overlay",
              "size": 10,
              "solidity": 0.2
             }
            },
            "type": "bar"
           }
          ],
          "barpolar": [
           {
            "marker": {
             "line": {
              "color": "#E5ECF6",
              "width": 0.5
             },
             "pattern": {
              "fillmode": "overlay",
              "size": 10,
              "solidity": 0.2
             }
            },
            "type": "barpolar"
           }
          ],
          "carpet": [
           {
            "aaxis": {
             "endlinecolor": "#2a3f5f",
             "gridcolor": "white",
             "linecolor": "white",
             "minorgridcolor": "white",
             "startlinecolor": "#2a3f5f"
            },
            "baxis": {
             "endlinecolor": "#2a3f5f",
             "gridcolor": "white",
             "linecolor": "white",
             "minorgridcolor": "white",
             "startlinecolor": "#2a3f5f"
            },
            "type": "carpet"
           }
          ],
          "choropleth": [
           {
            "colorbar": {
             "outlinewidth": 0,
             "ticks": ""
            },
            "type": "choropleth"
           }
          ],
          "contour": [
           {
            "colorbar": {
             "outlinewidth": 0,
             "ticks": ""
            },
            "colorscale": [
             [
              0,
              "#0d0887"
             ],
             [
              0.1111111111111111,
              "#46039f"
             ],
             [
              0.2222222222222222,
              "#7201a8"
             ],
             [
              0.3333333333333333,
              "#9c179e"
             ],
             [
              0.4444444444444444,
              "#bd3786"
             ],
             [
              0.5555555555555556,
              "#d8576b"
             ],
             [
              0.6666666666666666,
              "#ed7953"
             ],
             [
              0.7777777777777778,
              "#fb9f3a"
             ],
             [
              0.8888888888888888,
              "#fdca26"
             ],
             [
              1,
              "#f0f921"
             ]
            ],
            "type": "contour"
           }
          ],
          "contourcarpet": [
           {
            "colorbar": {
             "outlinewidth": 0,
             "ticks": ""
            },
            "type": "contourcarpet"
           }
          ],
          "heatmap": [
           {
            "colorbar": {
             "outlinewidth": 0,
             "ticks": ""
            },
            "colorscale": [
             [
              0,
              "#0d0887"
             ],
             [
              0.1111111111111111,
              "#46039f"
             ],
             [
              0.2222222222222222,
              "#7201a8"
             ],
             [
              0.3333333333333333,
              "#9c179e"
             ],
             [
              0.4444444444444444,
              "#bd3786"
             ],
             [
              0.5555555555555556,
              "#d8576b"
             ],
             [
              0.6666666666666666,
              "#ed7953"
             ],
             [
              0.7777777777777778,
              "#fb9f3a"
             ],
             [
              0.8888888888888888,
              "#fdca26"
             ],
             [
              1,
              "#f0f921"
             ]
            ],
            "type": "heatmap"
           }
          ],
          "histogram": [
           {
            "marker": {
             "pattern": {
              "fillmode": "overlay",
              "size": 10,
              "solidity": 0.2
             }
            },
            "type": "histogram"
           }
          ],
          "histogram2d": [
           {
            "colorbar": {
             "outlinewidth": 0,
             "ticks": ""
            },
            "colorscale": [
             [
              0,
              "#0d0887"
             ],
             [
              0.1111111111111111,
              "#46039f"
             ],
             [
              0.2222222222222222,
              "#7201a8"
             ],
             [
              0.3333333333333333,
              "#9c179e"
             ],
             [
              0.4444444444444444,
              "#bd3786"
             ],
             [
              0.5555555555555556,
              "#d8576b"
             ],
             [
              0.6666666666666666,
              "#ed7953"
             ],
             [
              0.7777777777777778,
              "#fb9f3a"
             ],
             [
              0.8888888888888888,
              "#fdca26"
             ],
             [
              1,
              "#f0f921"
             ]
            ],
            "type": "histogram2d"
           }
          ],
          "histogram2dcontour": [
           {
            "colorbar": {
             "outlinewidth": 0,
             "ticks": ""
            },
            "colorscale": [
             [
              0,
              "#0d0887"
             ],
             [
              0.1111111111111111,
              "#46039f"
             ],
             [
              0.2222222222222222,
              "#7201a8"
             ],
             [
              0.3333333333333333,
              "#9c179e"
             ],
             [
              0.4444444444444444,
              "#bd3786"
             ],
             [
              0.5555555555555556,
              "#d8576b"
             ],
             [
              0.6666666666666666,
              "#ed7953"
             ],
             [
              0.7777777777777778,
              "#fb9f3a"
             ],
             [
              0.8888888888888888,
              "#fdca26"
             ],
             [
              1,
              "#f0f921"
             ]
            ],
            "type": "histogram2dcontour"
           }
          ],
          "mesh3d": [
           {
            "colorbar": {
             "outlinewidth": 0,
             "ticks": ""
            },
            "type": "mesh3d"
           }
          ],
          "parcoords": [
           {
            "line": {
             "colorbar": {
              "outlinewidth": 0,
              "ticks": ""
             }
            },
            "type": "parcoords"
           }
          ],
          "pie": [
           {
            "automargin": true,
            "type": "pie"
           }
          ],
          "scatter": [
           {
            "fillpattern": {
             "fillmode": "overlay",
             "size": 10,
             "solidity": 0.2
            },
            "type": "scatter"
           }
          ],
          "scatter3d": [
           {
            "line": {
             "colorbar": {
              "outlinewidth": 0,
              "ticks": ""
             }
            },
            "marker": {
             "colorbar": {
              "outlinewidth": 0,
              "ticks": ""
             }
            },
            "type": "scatter3d"
           }
          ],
          "scattercarpet": [
           {
            "marker": {
             "colorbar": {
              "outlinewidth": 0,
              "ticks": ""
             }
            },
            "type": "scattercarpet"
           }
          ],
          "scattergeo": [
           {
            "marker": {
             "colorbar": {
              "outlinewidth": 0,
              "ticks": ""
             }
            },
            "type": "scattergeo"
           }
          ],
          "scattergl": [
           {
            "marker": {
             "colorbar": {
              "outlinewidth": 0,
              "ticks": ""
             }
            },
            "type": "scattergl"
           }
          ],
          "scattermap": [
           {
            "marker": {
             "colorbar": {
              "outlinewidth": 0,
              "ticks": ""
             }
            },
            "type": "scattermap"
           }
          ],
          "scattermapbox": [
           {
            "marker": {
             "colorbar": {
              "outlinewidth": 0,
              "ticks": ""
             }
            },
            "type": "scattermapbox"
           }
          ],
          "scatterpolar": [
           {
            "marker": {
             "colorbar": {
              "outlinewidth": 0,
              "ticks": ""
             }
            },
            "type": "scatterpolar"
           }
          ],
          "scatterpolargl": [
           {
            "marker": {
             "colorbar": {
              "outlinewidth": 0,
              "ticks": ""
             }
            },
            "type": "scatterpolargl"
           }
          ],
          "scatterternary": [
           {
            "marker": {
             "colorbar": {
              "outlinewidth": 0,
              "ticks": ""
             }
            },
            "type": "scatterternary"
           }
          ],
          "surface": [
           {
            "colorbar": {
             "outlinewidth": 0,
             "ticks": ""
            },
            "colorscale": [
             [
              0,
              "#0d0887"
             ],
             [
              0.1111111111111111,
              "#46039f"
             ],
             [
              0.2222222222222222,
              "#7201a8"
             ],
             [
              0.3333333333333333,
              "#9c179e"
             ],
             [
              0.4444444444444444,
              "#bd3786"
             ],
             [
              0.5555555555555556,
              "#d8576b"
             ],
             [
              0.6666666666666666,
              "#ed7953"
             ],
             [
              0.7777777777777778,
              "#fb9f3a"
             ],
             [
              0.8888888888888888,
              "#fdca26"
             ],
             [
              1,
              "#f0f921"
             ]
            ],
            "type": "surface"
           }
          ],
          "table": [
           {
            "cells": {
             "fill": {
              "color": "#EBF0F8"
             },
             "line": {
              "color": "white"
             }
            },
            "header": {
             "fill": {
              "color": "#C8D4E3"
             },
             "line": {
              "color": "white"
             }
            },
            "type": "table"
           }
          ]
         },
         "layout": {
          "annotationdefaults": {
           "arrowcolor": "#2a3f5f",
           "arrowhead": 0,
           "arrowwidth": 1
          },
          "autotypenumbers": "strict",
          "coloraxis": {
           "colorbar": {
            "outlinewidth": 0,
            "ticks": ""
           }
          },
          "colorscale": {
           "diverging": [
            [
             0,
             "#8e0152"
            ],
            [
             0.1,
             "#c51b7d"
            ],
            [
             0.2,
             "#de77ae"
            ],
            [
             0.3,
             "#f1b6da"
            ],
            [
             0.4,
             "#fde0ef"
            ],
            [
             0.5,
             "#f7f7f7"
            ],
            [
             0.6,
             "#e6f5d0"
            ],
            [
             0.7,
             "#b8e186"
            ],
            [
             0.8,
             "#7fbc41"
            ],
            [
             0.9,
             "#4d9221"
            ],
            [
             1,
             "#276419"
            ]
           ],
           "sequential": [
            [
             0,
             "#0d0887"
            ],
            [
             0.1111111111111111,
             "#46039f"
            ],
            [
             0.2222222222222222,
             "#7201a8"
            ],
            [
             0.3333333333333333,
             "#9c179e"
            ],
            [
             0.4444444444444444,
             "#bd3786"
            ],
            [
             0.5555555555555556,
             "#d8576b"
            ],
            [
             0.6666666666666666,
             "#ed7953"
            ],
            [
             0.7777777777777778,
             "#fb9f3a"
            ],
            [
             0.8888888888888888,
             "#fdca26"
            ],
            [
             1,
             "#f0f921"
            ]
           ],
           "sequentialminus": [
            [
             0,
             "#0d0887"
            ],
            [
             0.1111111111111111,
             "#46039f"
            ],
            [
             0.2222222222222222,
             "#7201a8"
            ],
            [
             0.3333333333333333,
             "#9c179e"
            ],
            [
             0.4444444444444444,
             "#bd3786"
            ],
            [
             0.5555555555555556,
             "#d8576b"
            ],
            [
             0.6666666666666666,
             "#ed7953"
            ],
            [
             0.7777777777777778,
             "#fb9f3a"
            ],
            [
             0.8888888888888888,
             "#fdca26"
            ],
            [
             1,
             "#f0f921"
            ]
           ]
          },
          "colorway": [
           "#636efa",
           "#EF553B",
           "#00cc96",
           "#ab63fa",
           "#FFA15A",
           "#19d3f3",
           "#FF6692",
           "#B6E880",
           "#FF97FF",
           "#FECB52"
          ],
          "font": {
           "color": "#2a3f5f"
          },
          "geo": {
           "bgcolor": "white",
           "lakecolor": "white",
           "landcolor": "#E5ECF6",
           "showlakes": true,
           "showland": true,
           "subunitcolor": "white"
          },
          "hoverlabel": {
           "align": "left"
          },
          "hovermode": "closest",
          "mapbox": {
           "style": "light"
          },
          "paper_bgcolor": "white",
          "plot_bgcolor": "#E5ECF6",
          "polar": {
           "angularaxis": {
            "gridcolor": "white",
            "linecolor": "white",
            "ticks": ""
           },
           "bgcolor": "#E5ECF6",
           "radialaxis": {
            "gridcolor": "white",
            "linecolor": "white",
            "ticks": ""
           }
          },
          "scene": {
           "xaxis": {
            "backgroundcolor": "#E5ECF6",
            "gridcolor": "white",
            "gridwidth": 2,
            "linecolor": "white",
            "showbackground": true,
            "ticks": "",
            "zerolinecolor": "white"
           },
           "yaxis": {
            "backgroundcolor": "#E5ECF6",
            "gridcolor": "white",
            "gridwidth": 2,
            "linecolor": "white",
            "showbackground": true,
            "ticks": "",
            "zerolinecolor": "white"
           },
           "zaxis": {
            "backgroundcolor": "#E5ECF6",
            "gridcolor": "white",
            "gridwidth": 2,
            "linecolor": "white",
            "showbackground": true,
            "ticks": "",
            "zerolinecolor": "white"
           }
          },
          "shapedefaults": {
           "line": {
            "color": "#2a3f5f"
           }
          },
          "ternary": {
           "aaxis": {
            "gridcolor": "white",
            "linecolor": "white",
            "ticks": ""
           },
           "baxis": {
            "gridcolor": "white",
            "linecolor": "white",
            "ticks": ""
           },
           "bgcolor": "#E5ECF6",
           "caxis": {
            "gridcolor": "white",
            "linecolor": "white",
            "ticks": ""
           }
          },
          "title": {
           "x": 0.05
          },
          "xaxis": {
           "automargin": true,
           "gridcolor": "white",
           "linecolor": "white",
           "ticks": "",
           "title": {
            "standoff": 15
           },
           "zerolinecolor": "white",
           "zerolinewidth": 2
          },
          "yaxis": {
           "automargin": true,
           "gridcolor": "white",
           "linecolor": "white",
           "ticks": "",
           "title": {
            "standoff": 15
           },
           "zerolinecolor": "white",
           "zerolinewidth": 2
          }
         }
        },
        "title": {
         "text": "Cash Dividend Over Years by Company Code"
        },
        "xaxis": {
         "anchor": "y",
         "domain": [
          0,
          1
         ],
         "title": {
          "text": "Year"
         }
        },
        "yaxis": {
         "anchor": "x",
         "domain": [
          0,
          1
         ],
         "title": {
          "text": "Cash div"
         }
        }
       }
      },
      "image/png": "[encoded data removed]"
     },
     "metadata": {},
     "output_type": "display_data"
    }
   ],
   "source": [
    "import plotly.express as px\n",
    "\n",
    "# mylist\n",
    "stock_list = ['1233','1303','1473','1477','2103']\n",
    "\n",
    "# dividend > 0.5 and less std err and alpha = std_err / dividend\n",
    "#stock_list = ['9925','9908','1726','9908','2412']\n",
    "#stock_list = ['1203','1231','1769','2886','1234']\n",
    "#stock_list = ['5876','2356','2433','6697']\n",
    "#stock_list = ['1817','1775','9937','2245','3611']\n",
    "#stock_list = ['4938','9941','2114','6281']\n",
    "#stock_list = ['1264','2741','8416','9924','4549']\n",
    "#stock_list = ['8083','4105','8048','1788','1707']\n",
    "#stock_list = ['8435','1702','8109','1232','1737']\n",
    "#stock_list = ['9926','5243','2894','1537','4104']\n",
    "#stock_list = ['5878','8370','8464']\n",
    "\n",
    "df_pic = combined_df[combined_df['Company code'].isin(stock_list)]\n",
    "df_pic_rename = df_pic.rename(columns={'Cash dividends distributed from retained earnings (NTD/share)' : 'Cash div'})\n",
    "df_pic_year_cash_div = df_pic_rename[['Company code','Year','Cash div']]\n",
    "df_pic_year_cash_div.loc[:,'Cash div'] = df_pic_year_cash_div['Cash div'].astype(float)\n",
    "df_pic_year_cash_div.to_csv('dividend_year_1233_1303_1473_2103.csv')\n",
    "# Create a line chart of Cash Dividend over Years for each Company Code\n",
    "fig = px.line(df_pic_year_cash_div, x='Year', y='Cash div', color='Company code',\n",
    "              title='Cash Dividend Over Years by Company Code',\n",
    "              markers=True)\n",
    "fig.show()"
   ]
  },
  {
   "cell_type": "code",
   "execution_count": null,
   "id": "d590e14c-e7d3-4354-8735-bc5dfff68953",
   "metadata": {},
   "outputs": [],
   "source": [
    "dividend_min = 10\n",
    "\n",
    "df_pic = combined_df.sort_values(by='Year')\n",
    "df_pic_rename = df_pic.rename(columns={'Cash dividends distributed from retained earnings (NTD/share)' : 'Cash div'})\n",
    "df_filtered = df_pic_rename[['Company code','Year','Cash div']]\n",
    "df_filtered.loc[:,'Cash div'] = df_filtered['Cash div'].astype(float)\n",
    "\n",
    "# Calculate average cash dividend for each stock\n",
    "avg_divs = df_filtered.groupby('Company code')['Cash div'].mean()\n",
    "\n",
    "# Filter stocks with average cash dividend > 0.5\n",
    "valid_stocks = avg_divs[avg_divs > dividend_min].index\n",
    "\n",
    "# Filter the original data to include only valid stocks\n",
    "df_valid = df_filtered[df_filtered['Company code'].isin(valid_stocks)]\n",
    "\n",
    "# Calculate and sort standard deviation of cash dividends for valid stocks\n",
    "std_devs = df_valid.groupby('Company code')['Cash div'].std().sort_values()\n",
    "\n",
    "std_devs_filtered = std_devs.dropna()\n",
    "std_devs_filtered = std_devs_filtered[std_devs_filtered != 0]\n",
    "print(\"Standard deviations of yearly cash dividends (average > 0.5, sorted from low to high):\")\n",
    "print(std_devs_filtered)"
   ]
  },
  {
   "cell_type": "code",
   "execution_count": null,
   "id": "bd153d4b-a1c1-4f13-9749-1c91f9280be5",
   "metadata": {},
   "outputs": [],
   "source": [
    "type(std_devs_filtered)"
   ]
  },
  {
   "cell_type": "code",
   "execution_count": null,
   "id": "b770a691-4852-404b-ace4-8d20f82d4ab9",
   "metadata": {},
   "outputs": [],
   "source": [
    "# Calculate average and standard deviation of cash dividends for each stock\n",
    "stats = df_filtered.groupby('Company code')['Cash div'].agg(['mean', 'std'])\n",
    "\n",
    "# Filter stocks with average cash dividend > 0.5\n",
    "stats_filtered = stats[stats['mean'] > 0.5].sort_values(by='std')\n",
    "\n",
    "# Rename columns for clarity\n",
    "stats_filtered = stats_filtered.rename(columns={'mean': 'Average Dividend', 'std': 'Standard Deviation'})\n",
    "\n",
    "# Display the result table\n",
    "print(\"Company Code | Average Dividend | Standard Deviation\")\n",
    "print(stats_filtered)\n",
    "stats_filtered.to_csv('dividend_average_std_2025-09.csv')"
   ]
  },
  {
   "cell_type": "code",
   "execution_count": null,
   "id": "9b46b46e-b843-437d-8e63-fd8fc75ffad6",
   "metadata": {},
   "outputs": [],
   "source": [
    "stats_filtered['alpha'] = stats_filtered['Standard Deviation'] / stats_filtered['Average Dividend']\n",
    "stats_filtered_sort = stats_filtered.sort_values(by='alpha')\n",
    "stats_filtered_sort.to_csv('dividend_alpha.csv')"
   ]
  },
  {
   "cell_type": "code",
   "execution_count": null,
   "id": "a3ccf3f0-51ac-47c8-a711-0647ed1170df",
   "metadata": {},
   "outputs": [],
   "source": [
    "stats_filtered_sort[0:30].index"
   ]
  },
  {
   "cell_type": "code",
   "execution_count": null,
   "id": "32dadd6e-805c-49ab-b0b8-2d1f9b5794fc",
   "metadata": {},
   "outputs": [],
   "source": [
    "import plotly.express as px\n",
    "\n",
    "stock_list = ['1550']\n",
    "df_pic = combined_df[combined_df['Company code'].isin(stock_list)]\n",
    "df_pic_rename = df_pic.rename(columns={'Cash dividends distributed from retained earnings (NTD/share)' : 'Cash div'})\n",
    "df_pic_year_cash_div = df_pic_rename[['Company code','Year','Cash div']]\n",
    "df_pic_year_cash_div.loc[:,'Cash div'] = df_pic_year_cash_div['Cash div'].astype(float)\n",
    "# Create a line chart of Cash Dividend over Years for each Company Code\n",
    "fig = px.line(df_pic_year_cash_div, x='Year', y='Cash div', color='Company code',\n",
    "              title='Cash Dividend Over Years by Company Code',\n",
    "              markers=True)\n",
    "fig.show()"
   ]
  },
  {
   "cell_type": "code",
   "execution_count": null,
   "id": "e005831c-cab1-464f-80ef-d1f22b1fc7f0",
   "metadata": {},
   "outputs": [],
   "source": [
    "stock = pd.read_csv('../stock.csv')\n",
    "stock.rename(columns={'sid':'Company code'},inplace=True)\n",
    "#stock['Company code'] = df['Company code'].astype(str)\n",
    "stock.set_index('Company code',inplace=True)\n",
    "stock.to_csv('stock_modified.csv')\n",
    "stock.info()"
   ]
  },
  {
   "cell_type": "code",
   "execution_count": null,
   "id": "6e7aef5f-1906-4420-ab04-23a76e663e0b",
   "metadata": {},
   "outputs": [],
   "source": [
    "stats_filtered_sort.join(stock).to_csv('dividend_alpha_join.csv')"
   ]
  },
  {
   "cell_type": "code",
   "execution_count": null,
   "id": "2c5a9bc2-c59a-44ba-a330-be79840207f1",
   "metadata": {},
   "outputs": [],
   "source": [
    "stats_filtered_sort.info()"
   ]
  },
  {
   "cell_type": "code",
   "execution_count": null,
   "id": "5901c68e-81da-42ee-ac1d-9acd4b0ce845",
   "metadata": {},
   "outputs": [],
   "source": []
  },
  {
   "cell_type": "code",
   "execution_count": null,
   "id": "92765739-fc25-4fd9-9135-69b30a6a7d8d",
   "metadata": {},
   "outputs": [],
   "source": [
    "df_filtered[['Company code','Cash div']].groupby('Company code').count() > 8"
   ]
  },
  {
   "cell_type": "code",
   "execution_count": null,
   "id": "e4a46df9-6f57-4096-bb2b-af0af182307c",
   "metadata": {},
   "outputs": [],
   "source": [
    "record_count = 10\n",
    "x = df_filtered[['Company code','Cash div']].groupby('Company code').count() >= record_count"
   ]
  },
  {
   "cell_type": "code",
   "execution_count": null,
   "id": "d90cc369-0d4f-44e7-a0fc-c24c6c657e83",
   "metadata": {},
   "outputs": [],
   "source": [
    "type(x)"
   ]
  },
  {
   "cell_type": "code",
   "execution_count": null,
   "id": "75f97dcd-69e3-48ec-9b5e-1da7a97d02ae",
   "metadata": {},
   "outputs": [],
   "source": [
    "x.info()"
   ]
  },
  {
   "cell_type": "code",
   "execution_count": null,
   "id": "35d61b4a-8cb6-44dd-aae1-8e2e026268c1",
   "metadata": {},
   "outputs": [],
   "source": [
    "y=x[x['Cash div'] == True].index"
   ]
  },
  {
   "cell_type": "code",
   "execution_count": null,
   "id": "40a5bac1-da8c-40e9-9949-ccc943b4eb90",
   "metadata": {},
   "outputs": [],
   "source": [
    "y"
   ]
  },
  {
   "cell_type": "code",
   "execution_count": null,
   "id": "8dc45ed4-12fe-4e88-a056-821e2fed545c",
   "metadata": {},
   "outputs": [],
   "source": [
    "type(y)"
   ]
  },
  {
   "cell_type": "code",
   "execution_count": null,
   "id": "f3c4a2d9-b94d-4264-a3e5-8b64c46c4f95",
   "metadata": {},
   "outputs": [],
   "source": [
    "x.info()"
   ]
  },
  {
   "cell_type": "code",
   "execution_count": 272,
   "id": "07f3406c-832b-41b1-894b-4489100d1e8e",
   "metadata": {},
   "outputs": [
    {
     "name": "stdout",
     "output_type": "stream",
     "text": [
      "     sid  gid sname     gcname                              gname\n",
      "0   9925   20    新保        其他類                             Others\n",
      "1   9908   23   大台北      油電燃氣類            Oil Gas and Electricity\n",
      "2   1726   21    永記      化學工業類                           Chemical\n",
      "3   2412   27   中華電     通信網路業類        Communications and Internet\n",
      "4   1203    2    味王      食品工業類                              Foods\n",
      "5   1231    2   聯華食      食品工業類                              Foods\n",
      "6   1769  NaN   NaN        NaN                                NaN\n",
      "7   2886   17   兆豐金      金融保險類              Finance and Insurance\n",
      "8   1234    2    黑松      食品工業類                              Foods\n",
      "9   5876   17  上海商銀      金融保險類              Finance and Insurance\n",
      "10  2356   25   英業達  電腦及週邊設備業類  Computer and Peripheral Equipment\n",
      "11  2433   31   互盛電     其他電子業類                   Other Electronic\n",
      "12  6697  NaN   NaN        NaN                                NaN\n",
      "13  1817    8   凱撒衛      玻璃陶瓷類                 Glass and Ceramics\n",
      "14  1775  NaN   NaN        NaN                                NaN\n",
      "15  9937   23    全國      油電燃氣類            Oil Gas and Electricity\n",
      "16  2245  NaN   NaN        NaN                                NaN\n",
      "17  3611  NaN   NaN        NaN                                NaN\n",
      "18  4938   25    和碩  電腦及週邊設備業類  Computer and Peripheral Equipment\n",
      "19  9941   20    裕融        其他類                             Others\n",
      "20  2114   11   鑫永銓      橡膠工業類                             Rubber\n",
      "21  6281   29   全國電     電子通路業類   Electronic Products Distribution\n",
      "22  1264  NaN   NaN        NaN                                NaN\n",
      "23  2741  NaN   NaN        NaN                                NaN\n",
      "24  8416  NaN   NaN        NaN                                NaN\n",
      "25  9924   38    福興      居家生活類                          Household\n",
      "26  4549  NaN   NaN        NaN                                NaN\n",
      "27  8083  NaN   NaN        NaN                                NaN\n",
      "28  4105  NaN   NaN        NaN                                NaN\n",
      "29  8048  NaN   NaN        NaN                                NaN\n",
      "30  1788  NaN   NaN        NaN                                NaN\n",
      "31  1707   22   葡萄王      生技醫療類       Biotechnology & Medical Care\n",
      "32  8435  NaN   NaN        NaN                                NaN\n",
      "33  1702    2    南僑      食品工業類                              Foods\n",
      "34  8109  NaN   NaN        NaN                                NaN\n",
      "35  1232    2   大統益      食品工業類                              Foods\n",
      "36  1737    2    臺鹽      食品工業類                              Foods\n",
      "37  9926   23    新海      油電燃氣類            Oil Gas and Electricity\n",
      "38  5243  NaN   NaN        NaN                                NaN\n",
      "39  2894  NaN   NaN        NaN                                NaN\n",
      "40  1537    5    廣隆      電機機械類                 Electric Machinery\n",
      "41  4104   22    佳醫      生技醫療類       Biotechnology & Medical Care\n",
      "42  5878  NaN   NaN        NaN                                NaN\n",
      "43  8370  NaN   NaN        NaN                                NaN\n",
      "44  8464   38    億豐      居家生活類                          Household\n"
     ]
    }
   ],
   "source": [
    "# Load stock and group data\n",
    "stock_df = pd.read_csv(\"../stock.csv\", skipinitialspace=True)\n",
    "group_df = pd.read_csv(\"../group.csv\", skipinitialspace=True)\n",
    "\n",
    "# Convert 'sid' and 'gid' to string for consistency\n",
    "stock_df['sid'] = stock_df['sid'].astype(str)\n",
    "stock_df['gid'] = stock_df['gid'].astype(str)\n",
    "group_df['gid'] = group_df['gid'].astype(str)\n",
    "\n",
    "\n",
    "data = pd.DataFrame({'sid': [\n",
    "    '9925','9908','1726','2412',\n",
    "    '1203','1231','1769','2886','1234',\n",
    "    '5876','2356','2433','6697','1817',\n",
    "    '1775','9937','2245','3611','4938',\n",
    "    '9941','2114','6281','1264','2741',\n",
    "    '8416','9924','4549','8083','4105',\n",
    "    '8048','1788','1707','8435','1702',\n",
    "    '8109','1232','1737','9926','5243',\n",
    "    '2894','1537','4104','5878','8370',\n",
    "    '8464']})\n",
    "\n",
    "# Merge with stock data to get gid and sname\n",
    "merged_df = data.merge(stock_df, on='sid', how='left')\n",
    "\n",
    "# Merge with group data to get gcname and gname\n",
    "final_df = merged_df.merge(group_df, on='gid', how='left')\n",
    "\n",
    "# Display or export the final DataFrame\n",
    "print(final_df)\n",
    "final_df.to_csv(\"dividend_gid_cname.csv\")"
   ]
  },
  {
   "cell_type": "code",
   "execution_count": 273,
   "id": "30758caa-ab0f-49e6-8dc6-c37b12f8c165",
   "metadata": {},
   "outputs": [
    {
     "name": "stdout",
     "output_type": "stream",
     "text": [
      "<class 'pandas.core.frame.DataFrame'>\n",
      "RangeIndex: 949 entries, 0 to 948\n",
      "Data columns (total 3 columns):\n",
      " #   Column  Non-Null Count  Dtype \n",
      "---  ------  --------------  ----- \n",
      " 0   gid     949 non-null    int64 \n",
      " 1   sid     949 non-null    object\n",
      " 2   sname   949 non-null    object\n",
      "dtypes: int64(1), object(2)\n",
      "memory usage: 22.4+ KB\n"
     ]
    }
   ],
   "source": [
    "stock.info()"
   ]
  },
  {
   "cell_type": "code",
   "execution_count": 274,
   "id": "9020bc57-5cba-4a76-9aa0-f7741037603b",
   "metadata": {},
   "outputs": [
    {
     "name": "stdout",
     "output_type": "stream",
     "text": [
      "<class 'pandas.core.frame.DataFrame'>\n",
      "RangeIndex: 45 entries, 0 to 44\n",
      "Data columns (total 1 columns):\n",
      " #   Column  Non-Null Count  Dtype \n",
      "---  ------  --------------  ----- \n",
      " 0   sid     45 non-null     object\n",
      "dtypes: object(1)\n",
      "memory usage: 492.0+ bytes\n"
     ]
    }
   ],
   "source": [
    "data.info()"
   ]
  },
  {
   "cell_type": "code",
   "execution_count": 275,
   "id": "6d6cfe2e-bb00-4599-9fd4-8d1805c4cf02",
   "metadata": {},
   "outputs": [],
   "source": [
    "div_df = pd.read_csv(\"dividend_gid_cname.csv\", skipinitialspace=True)"
   ]
  },
  {
   "cell_type": "code",
   "execution_count": 278,
   "id": "a2b2f7b5-69d4-423a-bdd3-029568b02add",
   "metadata": {},
   "outputs": [
    {
     "data": {
      "text/html": [
       "<div>\n",
       "<style scoped>\n",
       "    .dataframe tbody tr th:only-of-type {\n",
       "        vertical-align: middle;\n",
       "    }\n",
       "\n",
       "    .dataframe tbody tr th {\n",
       "        vertical-align: top;\n",
       "    }\n",
       "\n",
       "    .dataframe thead th {\n",
       "        text-align: right;\n",
       "    }\n",
       "</style>\n",
       "<table border=\"1\" class=\"dataframe\">\n",
       "  <thead>\n",
       "    <tr style=\"text-align: right;\">\n",
       "      <th></th>\n",
       "      <th>Unnamed: 0</th>\n",
       "      <th>sid</th>\n",
       "      <th>gid</th>\n",
       "      <th>sname</th>\n",
       "      <th>gcname</th>\n",
       "      <th>gname</th>\n",
       "    </tr>\n",
       "  </thead>\n",
       "  <tbody>\n",
       "    <tr>\n",
       "      <th>11</th>\n",
       "      <td>11</td>\n",
       "      <td>2433</td>\n",
       "      <td>31.0</td>\n",
       "      <td>互盛電</td>\n",
       "      <td>其他電子業類</td>\n",
       "      <td>Other Electronic</td>\n",
       "    </tr>\n",
       "    <tr>\n",
       "      <th>0</th>\n",
       "      <td>0</td>\n",
       "      <td>9925</td>\n",
       "      <td>20.0</td>\n",
       "      <td>新保</td>\n",
       "      <td>其他類</td>\n",
       "      <td>Others</td>\n",
       "    </tr>\n",
       "    <tr>\n",
       "      <th>19</th>\n",
       "      <td>19</td>\n",
       "      <td>9941</td>\n",
       "      <td>20.0</td>\n",
       "      <td>裕融</td>\n",
       "      <td>其他類</td>\n",
       "      <td>Others</td>\n",
       "    </tr>\n",
       "    <tr>\n",
       "      <th>2</th>\n",
       "      <td>2</td>\n",
       "      <td>1726</td>\n",
       "      <td>21.0</td>\n",
       "      <td>永記</td>\n",
       "      <td>化學工業類</td>\n",
       "      <td>Chemical</td>\n",
       "    </tr>\n",
       "    <tr>\n",
       "      <th>25</th>\n",
       "      <td>25</td>\n",
       "      <td>9924</td>\n",
       "      <td>38.0</td>\n",
       "      <td>福興</td>\n",
       "      <td>居家生活類</td>\n",
       "      <td>Household</td>\n",
       "    </tr>\n",
       "    <tr>\n",
       "      <th>44</th>\n",
       "      <td>44</td>\n",
       "      <td>8464</td>\n",
       "      <td>38.0</td>\n",
       "      <td>億豐</td>\n",
       "      <td>居家生活類</td>\n",
       "      <td>Household</td>\n",
       "    </tr>\n",
       "    <tr>\n",
       "      <th>20</th>\n",
       "      <td>20</td>\n",
       "      <td>2114</td>\n",
       "      <td>11.0</td>\n",
       "      <td>鑫永銓</td>\n",
       "      <td>橡膠工業類</td>\n",
       "      <td>Rubber</td>\n",
       "    </tr>\n",
       "    <tr>\n",
       "      <th>37</th>\n",
       "      <td>37</td>\n",
       "      <td>9926</td>\n",
       "      <td>23.0</td>\n",
       "      <td>新海</td>\n",
       "      <td>油電燃氣類</td>\n",
       "      <td>Oil Gas and Electricity</td>\n",
       "    </tr>\n",
       "    <tr>\n",
       "      <th>1</th>\n",
       "      <td>1</td>\n",
       "      <td>9908</td>\n",
       "      <td>23.0</td>\n",
       "      <td>大台北</td>\n",
       "      <td>油電燃氣類</td>\n",
       "      <td>Oil Gas and Electricity</td>\n",
       "    </tr>\n",
       "    <tr>\n",
       "      <th>15</th>\n",
       "      <td>15</td>\n",
       "      <td>9937</td>\n",
       "      <td>23.0</td>\n",
       "      <td>全國</td>\n",
       "      <td>油電燃氣類</td>\n",
       "      <td>Oil Gas and Electricity</td>\n",
       "    </tr>\n",
       "    <tr>\n",
       "      <th>13</th>\n",
       "      <td>13</td>\n",
       "      <td>1817</td>\n",
       "      <td>8.0</td>\n",
       "      <td>凱撒衛</td>\n",
       "      <td>玻璃陶瓷類</td>\n",
       "      <td>Glass and Ceramics</td>\n",
       "    </tr>\n",
       "    <tr>\n",
       "      <th>41</th>\n",
       "      <td>41</td>\n",
       "      <td>4104</td>\n",
       "      <td>22.0</td>\n",
       "      <td>佳醫</td>\n",
       "      <td>生技醫療類</td>\n",
       "      <td>Biotechnology &amp; Medical Care</td>\n",
       "    </tr>\n",
       "    <tr>\n",
       "      <th>31</th>\n",
       "      <td>31</td>\n",
       "      <td>1707</td>\n",
       "      <td>22.0</td>\n",
       "      <td>葡萄王</td>\n",
       "      <td>生技醫療類</td>\n",
       "      <td>Biotechnology &amp; Medical Care</td>\n",
       "    </tr>\n",
       "    <tr>\n",
       "      <th>3</th>\n",
       "      <td>3</td>\n",
       "      <td>2412</td>\n",
       "      <td>27.0</td>\n",
       "      <td>中華電</td>\n",
       "      <td>通信網路業類</td>\n",
       "      <td>Communications and Internet</td>\n",
       "    </tr>\n",
       "    <tr>\n",
       "      <th>9</th>\n",
       "      <td>9</td>\n",
       "      <td>5876</td>\n",
       "      <td>17.0</td>\n",
       "      <td>上海商銀</td>\n",
       "      <td>金融保險類</td>\n",
       "      <td>Finance and Insurance</td>\n",
       "    </tr>\n",
       "    <tr>\n",
       "      <th>7</th>\n",
       "      <td>7</td>\n",
       "      <td>2886</td>\n",
       "      <td>17.0</td>\n",
       "      <td>兆豐金</td>\n",
       "      <td>金融保險類</td>\n",
       "      <td>Finance and Insurance</td>\n",
       "    </tr>\n",
       "    <tr>\n",
       "      <th>21</th>\n",
       "      <td>21</td>\n",
       "      <td>6281</td>\n",
       "      <td>29.0</td>\n",
       "      <td>全國電</td>\n",
       "      <td>電子通路業類</td>\n",
       "      <td>Electronic Products Distribution</td>\n",
       "    </tr>\n",
       "    <tr>\n",
       "      <th>40</th>\n",
       "      <td>40</td>\n",
       "      <td>1537</td>\n",
       "      <td>5.0</td>\n",
       "      <td>廣隆</td>\n",
       "      <td>電機機械類</td>\n",
       "      <td>Electric Machinery</td>\n",
       "    </tr>\n",
       "    <tr>\n",
       "      <th>18</th>\n",
       "      <td>18</td>\n",
       "      <td>4938</td>\n",
       "      <td>25.0</td>\n",
       "      <td>和碩</td>\n",
       "      <td>電腦及週邊設備業類</td>\n",
       "      <td>Computer and Peripheral Equipment</td>\n",
       "    </tr>\n",
       "    <tr>\n",
       "      <th>10</th>\n",
       "      <td>10</td>\n",
       "      <td>2356</td>\n",
       "      <td>25.0</td>\n",
       "      <td>英業達</td>\n",
       "      <td>電腦及週邊設備業類</td>\n",
       "      <td>Computer and Peripheral Equipment</td>\n",
       "    </tr>\n",
       "    <tr>\n",
       "      <th>4</th>\n",
       "      <td>4</td>\n",
       "      <td>1203</td>\n",
       "      <td>2.0</td>\n",
       "      <td>味王</td>\n",
       "      <td>食品工業類</td>\n",
       "      <td>Foods</td>\n",
       "    </tr>\n",
       "    <tr>\n",
       "      <th>5</th>\n",
       "      <td>5</td>\n",
       "      <td>1231</td>\n",
       "      <td>2.0</td>\n",
       "      <td>聯華食</td>\n",
       "      <td>食品工業類</td>\n",
       "      <td>Foods</td>\n",
       "    </tr>\n",
       "    <tr>\n",
       "      <th>33</th>\n",
       "      <td>33</td>\n",
       "      <td>1702</td>\n",
       "      <td>2.0</td>\n",
       "      <td>南僑</td>\n",
       "      <td>食品工業類</td>\n",
       "      <td>Foods</td>\n",
       "    </tr>\n",
       "    <tr>\n",
       "      <th>35</th>\n",
       "      <td>35</td>\n",
       "      <td>1232</td>\n",
       "      <td>2.0</td>\n",
       "      <td>大統益</td>\n",
       "      <td>食品工業類</td>\n",
       "      <td>Foods</td>\n",
       "    </tr>\n",
       "    <tr>\n",
       "      <th>36</th>\n",
       "      <td>36</td>\n",
       "      <td>1737</td>\n",
       "      <td>2.0</td>\n",
       "      <td>臺鹽</td>\n",
       "      <td>食品工業類</td>\n",
       "      <td>Foods</td>\n",
       "    </tr>\n",
       "    <tr>\n",
       "      <th>8</th>\n",
       "      <td>8</td>\n",
       "      <td>1234</td>\n",
       "      <td>2.0</td>\n",
       "      <td>黑松</td>\n",
       "      <td>食品工業類</td>\n",
       "      <td>Foods</td>\n",
       "    </tr>\n",
       "  </tbody>\n",
       "</table>\n",
       "</div>"
      ],
      "text/plain": [
       "    Unnamed: 0   sid   gid sname     gcname                              gname\n",
       "11          11  2433  31.0   互盛電     其他電子業類                   Other Electronic\n",
       "0            0  9925  20.0    新保        其他類                             Others\n",
       "19          19  9941  20.0    裕融        其他類                             Others\n",
       "2            2  1726  21.0    永記      化學工業類                           Chemical\n",
       "25          25  9924  38.0    福興      居家生活類                          Household\n",
       "44          44  8464  38.0    億豐      居家生活類                          Household\n",
       "20          20  2114  11.0   鑫永銓      橡膠工業類                             Rubber\n",
       "37          37  9926  23.0    新海      油電燃氣類            Oil Gas and Electricity\n",
       "1            1  9908  23.0   大台北      油電燃氣類            Oil Gas and Electricity\n",
       "15          15  9937  23.0    全國      油電燃氣類            Oil Gas and Electricity\n",
       "13          13  1817   8.0   凱撒衛      玻璃陶瓷類                 Glass and Ceramics\n",
       "41          41  4104  22.0    佳醫      生技醫療類       Biotechnology & Medical Care\n",
       "31          31  1707  22.0   葡萄王      生技醫療類       Biotechnology & Medical Care\n",
       "3            3  2412  27.0   中華電     通信網路業類        Communications and Internet\n",
       "9            9  5876  17.0  上海商銀      金融保險類              Finance and Insurance\n",
       "7            7  2886  17.0   兆豐金      金融保險類              Finance and Insurance\n",
       "21          21  6281  29.0   全國電     電子通路業類   Electronic Products Distribution\n",
       "40          40  1537   5.0    廣隆      電機機械類                 Electric Machinery\n",
       "18          18  4938  25.0    和碩  電腦及週邊設備業類  Computer and Peripheral Equipment\n",
       "10          10  2356  25.0   英業達  電腦及週邊設備業類  Computer and Peripheral Equipment\n",
       "4            4  1203   2.0    味王      食品工業類                              Foods\n",
       "5            5  1231   2.0   聯華食      食品工業類                              Foods\n",
       "33          33  1702   2.0    南僑      食品工業類                              Foods\n",
       "35          35  1232   2.0   大統益      食品工業類                              Foods\n",
       "36          36  1737   2.0    臺鹽      食品工業類                              Foods\n",
       "8            8  1234   2.0    黑松      食品工業類                              Foods"
      ]
     },
     "execution_count": 278,
     "metadata": {},
     "output_type": "execute_result"
    }
   ],
   "source": [
    "div_df.dropna().sort_values('gcname')"
   ]
  },
  {
   "cell_type": "code",
   "execution_count": null,
   "id": "22d535a6-70fc-454b-a745-1681866c3bbd",
   "metadata": {},
   "outputs": [],
   "source": []
  }
 ],
 "metadata": {
  "kernelspec": {
   "display_name": "Python 3 (ipykernel)",
   "language": "python",
   "name": "python3"
  },
  "language_info": {
   "codemirror_mode": {
    "name": "ipython",
    "version": 3
   },
   "file_extension": ".py",
   "mimetype": "text/x-python",
   "name": "python",
   "nbconvert_exporter": "python",
   "pygments_lexer": "ipython3",
   "version": "3.12.3"
  }
 },
 "nbformat": 4,
 "nbformat_minor": 5
}

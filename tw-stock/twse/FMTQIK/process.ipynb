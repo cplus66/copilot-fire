{
 "cells": [
  {
   "cell_type": "code",
   "execution_count": null,
   "id": "3c89bb5e-4214-4c8d-bdca-fb157918b746",
   "metadata": {},
   "outputs": [],
   "source": [
    "!pip install seaborn\n",
    "!pip install scipy"
   ]
  },
  {
   "cell_type": "code",
   "execution_count": null,
   "id": "f6eaa76d-7c79-4e76-ada2-1cacd8943709",
   "metadata": {},
   "outputs": [],
   "source": [
    "import pandas as pd\n",
    "import os\n",
    "import numpy as np\n",
    "from datetime import datetime, timedelta\n",
    "import datetime as dt\n",
    "from pylab import mpl, plt\n",
    "import plotly.graph_objects as go\n",
    "import plotly.express as px\n",
    "from plotly.subplots import make_subplots\n",
    "import seaborn as sns\n",
    "from scipy import stats"
   ]
  },
  {
   "cell_type": "markdown",
   "id": "b9b8261a-fa43-4700-8950-e1cf0b1d0632",
   "metadata": {},
   "source": [
    "## Summary statistics (e.g. average, max, min, volatility)\n",
    "- Trend analysis and visualizations\n",
    "- Correlation with other indicators (if available)\n",
    "- Forecasting or modeling\n",
    "- Custom insights based on your goals"
   ]
  },
  {
   "cell_type": "markdown",
   "id": "9a904184-9afa-42b5-96a4-6d973ca2f6f7",
   "metadata": {},
   "source": [
    "## Data Clean"
   ]
  },
  {
   "cell_type": "code",
   "execution_count": null,
   "id": "a76f3267-5fd0-47f8-9347-3897d004db1e",
   "metadata": {},
   "outputs": [],
   "source": [
    "# Create a list of all year-month combinations from Jan 2015 to Aug 2025\n",
    "date_range = pd.date_range(start='2015-01-01', end='2025-08-01', freq='MS')\n",
    "\n",
    "# Generate filenames based on the format\n",
    "filenames = [f\"FMTQIK_{date.year}{date.month:02d}.csv\" for date in date_range]\n",
    "\n",
    "header=1\n",
    "footer=2\n",
    "# Read and concatenate all CSVs into a single DataFrame\n",
    "df = pd.concat([pd.read_csv(filename,skiprows=header, skipfooter=footer,engine='python') for filename in filenames], ignore_index=True)\n",
    "df = df.dropna(axis=1, how='all')"
   ]
  },
  {
   "cell_type": "code",
   "execution_count": null,
   "id": "2d66aaab-1746-406b-93d8-4d513e31e90c",
   "metadata": {},
   "outputs": [],
   "source": [
    "# Clean and convert relevant columns\n",
    "columns_to_clean = ['Trade Volume', 'Trade Value', 'Transaction', 'TAIEX']\n",
    "for col in columns_to_clean:\n",
    "    df[col] = df[col].str.replace(',', '')\n",
    "    df[col] = pd.to_numeric(df[col], errors='coerce')\n",
    "\n",
    "# Convert Date column to datetime\n",
    "df['Date'] = pd.to_datetime(df['Date'], errors='coerce')\n",
    "\n",
    "# Drop rows with NaN in Date, TAIEX, or Trade Volume\n",
    "df_clean = df.dropna(subset=['Date', 'TAIEX', 'Trade Volume','Trade Value','Transaction'])"
   ]
  },
  {
   "cell_type": "markdown",
   "id": "caf4d12d-fef8-43b5-a835-2ee705365d22",
   "metadata": {},
   "source": [
    "## Save to CSV"
   ]
  },
  {
   "cell_type": "code",
   "execution_count": null,
   "id": "06c0757f-8528-402e-98c3-aa213afff16b",
   "metadata": {},
   "outputs": [],
   "source": [
    "df_clean.to_csv('FMTQIK_2025-0903.csv')"
   ]
  },
  {
   "cell_type": "markdown",
   "id": "27f5406e-f6b7-4d9b-8e82-a7e6076e8733",
   "metadata": {},
   "source": [
    "## Visualization"
   ]
  },
  {
   "cell_type": "code",
   "execution_count": null,
   "id": "b2e8d28a-6f73-4be9-8717-b0c811b77987",
   "metadata": {},
   "outputs": [],
   "source": [
    "# Create line chart of TAIEX vs Trade Volume\n",
    "fig = px.line(df_clean, x='Date', y=['TAIEX'],\n",
    "              labels={'value': 'Value', 'variable': 'Legend'},\n",
    "              title='TAIEX Index Over Time')\n",
    "fig.show()"
   ]
  },
  {
   "cell_type": "code",
   "execution_count": null,
   "id": "5cd65bf3-08ae-4a68-afdb-95cfc7582b35",
   "metadata": {},
   "outputs": [],
   "source": [
    "# Create subplots with 70/30 height ratio\n",
    "fig = make_subplots(rows=2, cols=1, shared_xaxes=True,\n",
    "                    vertical_spacing=0.05,\n",
    "                    row_heights=[0.7, 0.3],\n",
    "                    subplot_titles=(\"TAIEX Index Over Time\", \"Trade Volume Over Time\"))\n",
    "\n",
    "# Add TAIEX line\n",
    "fig.add_trace(go.Scatter(x=df_clean['Date'], y=df_clean['TAIEX'],\n",
    "                         mode='lines', name='TAIEX'), row=1, col=1)\n",
    "\n",
    "# Add Trade Volume line\n",
    "fig.add_trace(go.Scatter(x=df_clean['Date'], y=df_clean['Trade Volume'],\n",
    "                         mode='lines', name='Trade Volume'), row=2, col=1)\n",
    "\n",
    "# Update layout\n",
    "fig.update_layout(height=800, title_text=\"TAIEX Index and Trade Volume (70/30 Split)\")\n",
    "\n",
    "fig.show()"
   ]
  },
  {
   "cell_type": "markdown",
   "id": "4f434b6f-3cc1-46a4-b9cc-1e3e2263e210",
   "metadata": {},
   "source": [
    "## Data Analysis"
   ]
  },
  {
   "cell_type": "code",
   "execution_count": null,
   "id": "26eeed76-97aa-46b9-bbaa-d8b53ce07048",
   "metadata": {},
   "outputs": [],
   "source": [
    "df_clean.info()\n",
    "df_clean.describe()"
   ]
  },
  {
   "cell_type": "code",
   "execution_count": null,
   "id": "1abbbf40-dd75-4921-80c8-678509da4b2c",
   "metadata": {},
   "outputs": [],
   "source": [
    "df_clean.corr(numeric_only=True)"
   ]
  },
  {
   "cell_type": "code",
   "execution_count": null,
   "id": "3ae5f151-bcd1-4ced-9065-a4b322f38835",
   "metadata": {},
   "outputs": [],
   "source": [
    "sns.pairplot(df_clean[['TAIEX','Trade Volume','Trade Value','Transaction']])"
   ]
  },
  {
   "cell_type": "code",
   "execution_count": null,
   "id": "655ebae6-722f-41fe-ac33-a56a72c49b7f",
   "metadata": {},
   "outputs": [],
   "source": [
    "sns.displot(x='Trade Volume', data=df, bins=30)"
   ]
  },
  {
   "cell_type": "code",
   "execution_count": null,
   "id": "5063974c-1389-434c-95e9-afec7e82f581",
   "metadata": {},
   "outputs": [],
   "source": [
    "sns.boxplot(y='Trade Volume', data=df)"
   ]
  },
  {
   "cell_type": "code",
   "execution_count": null,
   "id": "54e15b44-cebc-447a-a1e4-43ac0cb5c2e7",
   "metadata": {},
   "outputs": [],
   "source": [
    "sns.scatterplot(x='Trade Value', y='Trade Volume', data=df_clean)"
   ]
  },
  {
   "cell_type": "code",
   "execution_count": null,
   "id": "7d879e6d-c96e-4541-aa25-e65b8be8d2b4",
   "metadata": {},
   "outputs": [],
   "source": [
    "res = stats.linregress(x=df_clean['Trade Value'], y=df_clean['Trade Volume'])\n",
    "res"
   ]
  },
  {
   "cell_type": "code",
   "execution_count": null,
   "id": "84197213-eef7-47bb-86b7-4cf32ae6aa5d",
   "metadata": {
    "scrolled": true
   },
   "outputs": [],
   "source": [
    "sns.regplot(x=\"Trade Value\", y=\"Trade Volume\", data=df_clean, line_kws=dict(color=\"r\"))\n",
    "plt.xlabel('Trade Value')\n",
    "plt.ylabel('Trade Volume')\n",
    "plt.title('Relationship between trade value and volume')"
   ]
  },
  {
   "cell_type": "code",
   "execution_count": null,
   "id": "c78e8cef-08ff-4afd-9e9e-8be4adf4570f",
   "metadata": {},
   "outputs": [],
   "source": [
    "import pandas as pd\n",
    "import plotly.express as px\n",
    "from sklearn.linear_model import LinearRegression\n",
    "import numpy as np\n",
    "\n",
    "# Load the CSV file and use the second row as header\n",
    "df = pd.read_csv(\"FMTQIK_2025-0903.csv\", header=1)\n",
    "\n",
    "# Rename columns for clarity\n",
    "df.columns = ['Index', 'Date', 'Trade Volume', 'Trade Value', 'Transaction', 'TAIEX', 'Change']\n",
    "\n",
    "# Convert 'Date' column to datetime format\n",
    "df['Date'] = pd.to_datetime(df['Date'], errors='coerce')\n",
    "\n",
    "# Drop rows with invalid dates\n",
    "df = df.dropna(subset=['Date'])\n",
    "\n",
    "# Sort by date\n",
    "df = df.sort_values('Date')\n",
    "\n",
    "# Prepare data for linear regression\n",
    "df['Date_ordinal'] = df['Date'].map(pd.Timestamp.toordinal)\n",
    "X = df[['Date_ordinal']]\n",
    "y = df['TAIEX']\n",
    "\n",
    "# Fit linear regression model\n",
    "model = LinearRegression()\n",
    "model.fit(X, y)\n",
    "\n",
    "# Predict TAIEX values using the regression model\n",
    "df['TAIEX_trend'] = model.predict(X)\n",
    "\n",
    "# Create plot with actual TAIEX and regression line\n",
    "fig = px.line(df, x='Date', y=['TAIEX', 'TAIEX_trend'],\n",
    "              labels={'value': 'TAIEX Index', 'Date': 'Date', 'variable': 'Series'},\n",
    "              title='TAIEX Index Over Time with Linear Regression Trend Line')\n",
    "\n",
    "# Show the plot\n",
    "fig.show()"
   ]
  },
  {
   "cell_type": "code",
   "execution_count": null,
   "id": "2263f708-70d1-438e-aa7d-755dc392cb2b",
   "metadata": {},
   "outputs": [],
   "source": [
    "df.info()"
   ]
  },
  {
   "cell_type": "code",
   "execution_count": null,
   "id": "4cbdd376-f46e-43de-9e8b-66c72bc0d5a1",
   "metadata": {},
   "outputs": [],
   "source": [
    "import pandas as pd\n",
    "import matplotlib.pyplot as plt\n",
    "from sklearn.linear_model import LinearRegression\n",
    "import numpy as np\n",
    "\n",
    "# Load the CSV file with correct header\n",
    "df = pd.read_csv(\"FMTQIK_2025-0903.csv\", header=1)\n",
    "\n",
    "# Rename columns for clarity\n",
    "df.columns = ['Index', 'Date', 'Trade Volume', 'Trade Value', 'Transaction', 'TAIEX', 'Change']\n",
    "\n",
    "# Convert 'Date' column to datetime format\n",
    "df['Date'] = pd.to_datetime(df['Date'], errors='coerce')\n",
    "\n",
    "# Drop rows with invalid dates\n",
    "df = df.dropna(subset=['Date'])\n",
    "\n",
    "# Sort by date\n",
    "df = df.sort_values('Date')\n",
    "\n",
    "# Prepare data for linear regression\n",
    "df['Date_ordinal'] = df['Date'].map(pd.Timestamp.toordinal)\n",
    "X = df[['Date_ordinal']]\n",
    "y = df['TAIEX']\n",
    "\n",
    "# Fit linear regression model\n",
    "model = LinearRegression()\n",
    "model.fit(X, y)\n",
    "\n",
    "# Predict TAIEX values using the regression model\n",
    "df['TAIEX_trend'] = model.predict(X)\n",
    "\n",
    "# Plot using matplotlib\n",
    "plt.figure(figsize=(12, 6))\n",
    "plt.plot(df['Date'], df['TAIEX'], label='TAIEX', color='blue')\n",
    "plt.plot(df['Date'], df['TAIEX_trend'], label='Linear Regression Trend', color='orange')\n",
    "plt.xlabel('Date')\n",
    "plt.ylabel('TAIEX Index')\n",
    "plt.title('TAIEX Index Over Time with Linear Regression Trend Line')\n",
    "plt.legend()\n",
    "plt.grid(True)\n",
    "plt.tight_layout()\n",
    "\n",
    "# Save the plot\n",
    "plt.savefig(\"taiex_regression_plot.png\")\n",
    "plt.show()"
   ]
  },
  {
   "cell_type": "code",
   "execution_count": null,
   "id": "b495ea48-b751-43a3-b8e5-de063739a369",
   "metadata": {},
   "outputs": [],
   "source": [
    "import pandas as pd\n",
    "\n",
    "# Load the CSV file with the correct header\n",
    "df = pd.read_csv(\"FMTQIK_2025-0903.csv\", header=1)\n",
    "\n",
    "# Rename columns for clarity\n",
    "df.columns = ['Index', 'Date', 'Trade Volume', 'Trade Value', 'Transaction', 'TAIEX', 'Change']\n",
    "\n",
    "# Convert 'Date' column to datetime format\n",
    "df['Date'] = pd.to_datetime(df['Date'], errors='coerce')\n",
    "\n",
    "# Drop rows with invalid dates\n",
    "df = df.dropna(subset=['Date'])\n",
    "\n",
    "# Sort by date to ensure chronological order\n",
    "df = df.sort_values('Date')\n",
    "\n",
    "# Get the first and last TAIEX values and corresponding dates\n",
    "start_date = df['Date'].iloc[0]\n",
    "end_date = df['Date'].iloc[-1]\n",
    "start_value = df['TAIEX'].iloc[0]\n",
    "end_value = df['TAIEX'].iloc[-1]\n",
    "\n",
    "# Calculate the number of years between start and end dates\n",
    "years = (end_date - start_date).days / 365.25\n",
    "\n",
    "# Calculate CAGR (Compound Annual Growth Rate)\n",
    "cagr = ((end_value / start_value) ** (1 / years)) - 1\n",
    "\n",
    "# Calculate average annual growth rate\n",
    "average_annual_growth = (end_value - start_value) / years\n",
    "\n",
    "# Display the results\n",
    "print(f\"Start Date: {start_date.date()}, TAIEX: {start_value}\")\n",
    "print(f\"End Date: {end_date.date()}, TAIEX: {end_value}\")\n",
    "print(f\"Years: {years:.2f}\")\n",
    "print(f\"Annualized Growth Rate (CAGR): {cagr * 100:.2f}%\")\n",
    "print(f\"Average Annual Growth: {average_annual_growth:.2f} points/year\")"
   ]
  },
  {
   "cell_type": "code",
   "execution_count": null,
   "id": "21c9d0da-e77d-4f43-8d5e-3b4d0b5f6ba5",
   "metadata": {},
   "outputs": [],
   "source": [
    "from datetime import datetime\n",
    "start_date = datetime(2014, 3, 1, 0, 0, 0)\n",
    "end_date = datetime(2025, 10, 5, 0, 0, 0)\n",
    "start_value = 1478\n",
    "end_value = 3430\n",
    "\n",
    "# Calculate the number of years between start and end dates\n",
    "years = (end_date - start_date).days / 365.25\n",
    "\n",
    "# Calculate CAGR (Compound Annual Growth Rate)\n",
    "cagr = ((end_value / start_value) ** (1 / years)) - 1\n",
    "\n",
    "# Calculate average annual growth rate\n",
    "average_annual_growth = (end_value - start_value) / years\n",
    "\n",
    "# Display the results\n",
    "print(f\"Start Date: {start_date.date()}, TAIEX: {start_value}\")\n",
    "print(f\"End Date: {end_date.date()}, TAIEX: {end_value}\")\n",
    "print(f\"Years: {years:.2f}\")\n",
    "print(f\"Annualized Growth Rate (CAGR): {cagr * 100:.2f}%\")\n",
    "print(f\"Average Annual Growth: {average_annual_growth:.2f} W/year\")"
   ]
  },
  {
   "cell_type": "code",
   "execution_count": null,
   "id": "421e9647-f6a9-4905-b27e-7fca23acf5a7",
   "metadata": {},
   "outputs": [],
   "source": []
  }
 ],
 "metadata": {
  "kernelspec": {
   "display_name": "Python 3 (ipykernel)",
   "language": "python",
   "name": "python3"
  },
  "language_info": {
   "codemirror_mode": {
    "name": "ipython",
    "version": 3
   },
   "file_extension": ".py",
   "mimetype": "text/x-python",
   "name": "python",
   "nbconvert_exporter": "python",
   "pygments_lexer": "ipython3",
   "version": "3.11.4"
  }
 },
 "nbformat": 4,
 "nbformat_minor": 5
}

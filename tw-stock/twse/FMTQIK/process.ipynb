{
 "cells": [
  {
   "cell_type": "code",
   "execution_count": null,
   "id": "f6eaa76d-7c79-4e76-ada2-1cacd8943709",
   "metadata": {},
   "outputs": [],
   "source": [
    "import pandas as pd\n",
    "import os\n",
    "import numpy as np\n",
    "from datetime import datetime, timedelta\n",
    "import datetime as dt\n",
    "from pylab import mpl, plt\n",
    "import plotly.graph_objects as go\n",
    "import plotly.express as px\n",
    "from plotly.subplots import make_subplots"
   ]
  },
  {
   "cell_type": "code",
   "execution_count": null,
   "id": "a76f3267-5fd0-47f8-9347-3897d004db1e",
   "metadata": {},
   "outputs": [],
   "source": [
    "# Create a list of all year-month combinations from Jan 2015 to Aug 2025\n",
    "date_range = pd.date_range(start='2015-01-01', end='2025-08-01', freq='MS')\n",
    "\n",
    "# Generate filenames based on the format\n",
    "filenames = [f\"FMTQIK_{date.year}{date.month:02d}.csv\" for date in date_range]\n",
    "\n",
    "header=1\n",
    "footer=2\n",
    "# Read and concatenate all CSVs into a single DataFrame\n",
    "df = pd.concat([pd.read_csv(filename,skiprows=header, skipfooter=footer,engine='python') for filename in filenames], ignore_index=True)\n",
    "df = df.dropna(axis=1, how='all')"
   ]
  },
  {
   "cell_type": "code",
   "execution_count": null,
   "id": "2d66aaab-1746-406b-93d8-4d513e31e90c",
   "metadata": {},
   "outputs": [],
   "source": [
    "# Clean and convert relevant columns\n",
    "columns_to_clean = ['Trade Volume', 'Trade Value', 'Transaction', 'TAIEX']\n",
    "for col in columns_to_clean:\n",
    "    df[col] = df[col].str.replace(',', '')\n",
    "    df[col] = pd.to_numeric(df[col], errors='coerce')\n",
    "\n",
    "# Convert Date column to datetime\n",
    "df['Date'] = pd.to_datetime(df['Date'], errors='coerce')\n",
    "\n",
    "# Drop rows with NaN in Date, TAIEX, or Trade Volume\n",
    "df_clean = df.dropna(subset=['Date', 'TAIEX', 'Trade Volume'])"
   ]
  },
  {
   "cell_type": "code",
   "execution_count": null,
   "id": "9bee4339-7086-4c91-b8b2-62693201cb6e",
   "metadata": {},
   "outputs": [],
   "source": [
    "# Create line chart of TAIEX vs Trade Volume\n",
    "fig = px.line(df_clean, x='Date', y=['TAIEX', 'Trade Volume'],\n",
    "              labels={'value': 'Value', 'variable': 'Legend'},\n",
    "              title='TAIEX Index vs Trade Volume Over Time')\n",
    "\n",
    "fig.show()"
   ]
  },
  {
   "cell_type": "code",
   "execution_count": null,
   "id": "b2e8d28a-6f73-4be9-8717-b0c811b77987",
   "metadata": {},
   "outputs": [],
   "source": [
    "# Create line chart of TAIEX vs Trade Volume\n",
    "fig = px.line(df_clean, x='Date', y=['TAIEX'],\n",
    "              labels={'value': 'Value', 'variable': 'Legend'},\n",
    "              title='TAIEX Index Over Time')\n",
    "fig.show()"
   ]
  },
  {
   "cell_type": "code",
   "execution_count": null,
   "id": "5cd65bf3-08ae-4a68-afdb-95cfc7582b35",
   "metadata": {},
   "outputs": [],
   "source": [
    "# Create subplots with 70/30 height ratio\n",
    "fig = make_subplots(rows=2, cols=1, shared_xaxes=True,\n",
    "                    row_heights=[0.7, 0.3],\n",
    "                    subplot_titles=(\"TAIEX Index Over Time\", \"Trade Volume Over Time\"))\n",
    "\n",
    "# Add TAIEX line\n",
    "fig.add_trace(go.Scatter(x=df_clean['Date'], y=df_clean['TAIEX'],\n",
    "                         mode='lines', name='TAIEX'), row=1, col=1)\n",
    "\n",
    "# Add Trade Volume line\n",
    "fig.add_trace(go.Scatter(x=df_clean['Date'], y=df_clean['Trade Volume'],\n",
    "                         mode='lines', name='Trade Volume'), row=2, col=1)\n",
    "\n",
    "# Update layout\n",
    "fig.update_layout(height=800, title_text=\"TAIEX Index and Trade Volume (70/30 Split)\")\n",
    "\n",
    "fig.show()\n"
   ]
  },
  {
   "cell_type": "code",
   "execution_count": null,
   "id": "279c60fc-2ce8-4d67-8a60-3f42ec85ffba",
   "metadata": {},
   "outputs": [],
   "source": [
    "# Create a list of all year-month combinations from Jan 2015 to Aug 2025\n",
    "date_range = pd.date_range(start='2015-01-01', end='2025-08-01', freq='MS')\n",
    "\n",
    "# Generate filenames based on the format\n",
    "filenames = [f\"FMTQIK_{date.year}{date.month:02d}.csv\" for date in date_range]\n",
    "\n",
    "header=1\n",
    "footer=2\n",
    "# Read and concatenate all CSVs into a single DataFrame\n",
    "df = pd.concat([pd.read_csv(filename,skiprows=header, skipfooter=footer,engine='python') for filename in filenames], ignore_index=True)\n",
    "df = df.dropna(axis=1, how='all')\n",
    "#df = df.set_index('Date')\n",
    "df['Date'] = pd.to_datetime(df['Date'], errors='coerce')\n",
    "\n",
    "df = df.dropna()\n",
    "\n",
    "# Drop rows with NaN in Date, TAIEX, or Trade Volume\n",
    "df = df.dropna(subset=['Date', 'TAIEX', 'Trade Volume'])\n",
    "\n",
    "columns_to_clean = ['Trade Volume', 'Trade Value', 'Transaction', 'TAIEX']\n",
    "for col in columns_to_clean:\n",
    "    df[col] = df[col].str.replace(',', '')\n",
    "    df[col] = pd.to_numeric(df[col], errors='coerce')\n",
    "\n",
    "df.to_csv('FMTQIK_2025-0903.csv')\n",
    "# Optional: display the first few rows\n",
    "print(df.head())"
   ]
  },
  {
   "cell_type": "code",
   "execution_count": null,
   "id": "655ebae6-722f-41fe-ac33-a56a72c49b7f",
   "metadata": {},
   "outputs": [],
   "source": []
  }
 ],
 "metadata": {
  "kernelspec": {
   "display_name": "Python 3 (ipykernel)",
   "language": "python",
   "name": "python3"
  },
  "language_info": {
   "codemirror_mode": {
    "name": "ipython",
    "version": 3
   },
   "file_extension": ".py",
   "mimetype": "text/x-python",
   "name": "python",
   "nbconvert_exporter": "python",
   "pygments_lexer": "ipython3",
   "version": "3.12.3"
  }
 },
 "nbformat": 4,
 "nbformat_minor": 5
}
